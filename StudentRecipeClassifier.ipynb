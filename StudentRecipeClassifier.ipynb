{
  "cells": [
    {
      "cell_type": "markdown",
      "id": "B55ClPSYO1m2",
      "metadata": {
        "id": "B55ClPSYO1m2"
      },
      "source": [
        "## Import the Dataset"
      ]
    },
    {
      "cell_type": "code",
      "execution_count": null,
      "id": "yhkRoF2AUUqW",
      "metadata": {
        "colab": {
          "base_uri": "https://localhost:8080/"
        },
        "id": "yhkRoF2AUUqW",
        "outputId": "7076ee62-c14e-4766-dcd4-04ba9e2daa84"
      },
      "outputs": [
        {
          "output_type": "stream",
          "name": "stdout",
          "text": [
            "  % Total    % Received % Xferd  Average Speed   Time    Time     Time  Current\n",
            "                                 Dload  Upload   Total   Spent    Left  Speed\n",
            "  0     0    0     0    0     0      0      0 --:--:-- --:--:-- --:--:--     0\n",
            "100 39.8M  100 39.8M    0     0  13.4M      0  0:00:02  0:00:02 --:--:-- 21.5M\n",
            "Archive:  /content/recipes.zip\n",
            "  inflating: 1_Recipe_csv.csv        \n",
            "  inflating: 2_Recipe_json.json      \n"
          ]
        }
      ],
      "source": [
        "!curl -L -o /content/recipes.zip https://www.kaggle.com/api/v1/datasets/download/prashantsingh001/recipes-dataset-64k-dishes\n",
        "!unzip /content/recipes.zip"
      ]
    },
    {
      "cell_type": "markdown",
      "id": "FII50DksO69g",
      "metadata": {
        "id": "FII50DksO69g"
      },
      "source": [
        "## Install Dependencies"
      ]
    },
    {
      "cell_type": "code",
      "execution_count": null,
      "id": "OHacYOSb5B-P",
      "metadata": {
        "colab": {
          "base_uri": "https://localhost:8080/"
        },
        "id": "OHacYOSb5B-P",
        "outputId": "9b1c5356-06e7-4b81-9672-ffbc4a80343c"
      },
      "outputs": [
        {
          "output_type": "stream",
          "name": "stdout",
          "text": [
            "Collecting bitsandbytes\n",
            "  Downloading bitsandbytes-0.48.1-py3-none-manylinux_2_24_x86_64.whl.metadata (10 kB)\n",
            "Requirement already satisfied: accelerate in /usr/local/lib/python3.12/dist-packages (1.11.0)\n",
            "Requirement already satisfied: transformers in /usr/local/lib/python3.12/dist-packages (4.57.1)\n",
            "Requirement already satisfied: peft in /usr/local/lib/python3.12/dist-packages (0.17.1)\n",
            "Collecting GPUtil\n",
            "  Downloading GPUtil-1.4.0.tar.gz (5.5 kB)\n",
            "  Preparing metadata (setup.py) ... \u001b[?25l\u001b[?25hdone\n",
            "Requirement already satisfied: torch<3,>=2.3 in /usr/local/lib/python3.12/dist-packages (from bitsandbytes) (2.8.0+cu126)\n",
            "Requirement already satisfied: numpy>=1.17 in /usr/local/lib/python3.12/dist-packages (from bitsandbytes) (2.0.2)\n",
            "Requirement already satisfied: packaging>=20.9 in /usr/local/lib/python3.12/dist-packages (from bitsandbytes) (25.0)\n",
            "Requirement already satisfied: psutil in /usr/local/lib/python3.12/dist-packages (from accelerate) (5.9.5)\n",
            "Requirement already satisfied: pyyaml in /usr/local/lib/python3.12/dist-packages (from accelerate) (6.0.3)\n",
            "Requirement already satisfied: huggingface_hub>=0.21.0 in /usr/local/lib/python3.12/dist-packages (from accelerate) (0.35.3)\n",
            "Requirement already satisfied: safetensors>=0.4.3 in /usr/local/lib/python3.12/dist-packages (from accelerate) (0.6.2)\n",
            "Requirement already satisfied: filelock in /usr/local/lib/python3.12/dist-packages (from transformers) (3.20.0)\n",
            "Requirement already satisfied: regex!=2019.12.17 in /usr/local/lib/python3.12/dist-packages (from transformers) (2024.11.6)\n",
            "Requirement already satisfied: requests in /usr/local/lib/python3.12/dist-packages (from transformers) (2.32.4)\n",
            "Requirement already satisfied: tokenizers<=0.23.0,>=0.22.0 in /usr/local/lib/python3.12/dist-packages (from transformers) (0.22.1)\n",
            "Requirement already satisfied: tqdm>=4.27 in /usr/local/lib/python3.12/dist-packages (from transformers) (4.67.1)\n",
            "Requirement already satisfied: fsspec>=2023.5.0 in /usr/local/lib/python3.12/dist-packages (from huggingface_hub>=0.21.0->accelerate) (2025.3.0)\n",
            "Requirement already satisfied: typing-extensions>=3.7.4.3 in /usr/local/lib/python3.12/dist-packages (from huggingface_hub>=0.21.0->accelerate) (4.15.0)\n",
            "Requirement already satisfied: hf-xet<2.0.0,>=1.1.3 in /usr/local/lib/python3.12/dist-packages (from huggingface_hub>=0.21.0->accelerate) (1.1.10)\n",
            "Requirement already satisfied: setuptools in /usr/local/lib/python3.12/dist-packages (from torch<3,>=2.3->bitsandbytes) (75.2.0)\n",
            "Requirement already satisfied: sympy>=1.13.3 in /usr/local/lib/python3.12/dist-packages (from torch<3,>=2.3->bitsandbytes) (1.13.3)\n",
            "Requirement already satisfied: networkx in /usr/local/lib/python3.12/dist-packages (from torch<3,>=2.3->bitsandbytes) (3.5)\n",
            "Requirement already satisfied: jinja2 in /usr/local/lib/python3.12/dist-packages (from torch<3,>=2.3->bitsandbytes) (3.1.6)\n",
            "Requirement already satisfied: nvidia-cuda-nvrtc-cu12==12.6.77 in /usr/local/lib/python3.12/dist-packages (from torch<3,>=2.3->bitsandbytes) (12.6.77)\n",
            "Requirement already satisfied: nvidia-cuda-runtime-cu12==12.6.77 in /usr/local/lib/python3.12/dist-packages (from torch<3,>=2.3->bitsandbytes) (12.6.77)\n",
            "Requirement already satisfied: nvidia-cuda-cupti-cu12==12.6.80 in /usr/local/lib/python3.12/dist-packages (from torch<3,>=2.3->bitsandbytes) (12.6.80)\n",
            "Requirement already satisfied: nvidia-cudnn-cu12==9.10.2.21 in /usr/local/lib/python3.12/dist-packages (from torch<3,>=2.3->bitsandbytes) (9.10.2.21)\n",
            "Requirement already satisfied: nvidia-cublas-cu12==12.6.4.1 in /usr/local/lib/python3.12/dist-packages (from torch<3,>=2.3->bitsandbytes) (12.6.4.1)\n",
            "Requirement already satisfied: nvidia-cufft-cu12==11.3.0.4 in /usr/local/lib/python3.12/dist-packages (from torch<3,>=2.3->bitsandbytes) (11.3.0.4)\n",
            "Requirement already satisfied: nvidia-curand-cu12==10.3.7.77 in /usr/local/lib/python3.12/dist-packages (from torch<3,>=2.3->bitsandbytes) (10.3.7.77)\n",
            "Requirement already satisfied: nvidia-cusolver-cu12==11.7.1.2 in /usr/local/lib/python3.12/dist-packages (from torch<3,>=2.3->bitsandbytes) (11.7.1.2)\n",
            "Requirement already satisfied: nvidia-cusparse-cu12==12.5.4.2 in /usr/local/lib/python3.12/dist-packages (from torch<3,>=2.3->bitsandbytes) (12.5.4.2)\n",
            "Requirement already satisfied: nvidia-cusparselt-cu12==0.7.1 in /usr/local/lib/python3.12/dist-packages (from torch<3,>=2.3->bitsandbytes) (0.7.1)\n",
            "Requirement already satisfied: nvidia-nccl-cu12==2.27.3 in /usr/local/lib/python3.12/dist-packages (from torch<3,>=2.3->bitsandbytes) (2.27.3)\n",
            "Requirement already satisfied: nvidia-nvtx-cu12==12.6.77 in /usr/local/lib/python3.12/dist-packages (from torch<3,>=2.3->bitsandbytes) (12.6.77)\n",
            "Requirement already satisfied: nvidia-nvjitlink-cu12==12.6.85 in /usr/local/lib/python3.12/dist-packages (from torch<3,>=2.3->bitsandbytes) (12.6.85)\n",
            "Requirement already satisfied: nvidia-cufile-cu12==1.11.1.6 in /usr/local/lib/python3.12/dist-packages (from torch<3,>=2.3->bitsandbytes) (1.11.1.6)\n",
            "Requirement already satisfied: triton==3.4.0 in /usr/local/lib/python3.12/dist-packages (from torch<3,>=2.3->bitsandbytes) (3.4.0)\n",
            "Requirement already satisfied: charset_normalizer<4,>=2 in /usr/local/lib/python3.12/dist-packages (from requests->transformers) (3.4.4)\n",
            "Requirement already satisfied: idna<4,>=2.5 in /usr/local/lib/python3.12/dist-packages (from requests->transformers) (3.11)\n",
            "Requirement already satisfied: urllib3<3,>=1.21.1 in /usr/local/lib/python3.12/dist-packages (from requests->transformers) (2.5.0)\n",
            "Requirement already satisfied: certifi>=2017.4.17 in /usr/local/lib/python3.12/dist-packages (from requests->transformers) (2025.10.5)\n",
            "Requirement already satisfied: mpmath<1.4,>=1.1.0 in /usr/local/lib/python3.12/dist-packages (from sympy>=1.13.3->torch<3,>=2.3->bitsandbytes) (1.3.0)\n",
            "Requirement already satisfied: MarkupSafe>=2.0 in /usr/local/lib/python3.12/dist-packages (from jinja2->torch<3,>=2.3->bitsandbytes) (3.0.3)\n",
            "Downloading bitsandbytes-0.48.1-py3-none-manylinux_2_24_x86_64.whl (60.1 MB)\n",
            "\u001b[2K   \u001b[90m━━━━━━━━━━━━━━━━━━━━━━━━━━━━━━━━━━━━━━━━\u001b[0m \u001b[32m60.1/60.1 MB\u001b[0m \u001b[31m39.7 MB/s\u001b[0m eta \u001b[36m0:00:00\u001b[0m\n",
            "\u001b[?25hBuilding wheels for collected packages: GPUtil\n",
            "  Building wheel for GPUtil (setup.py) ... \u001b[?25l\u001b[?25hdone\n",
            "  Created wheel for GPUtil: filename=GPUtil-1.4.0-py3-none-any.whl size=7392 sha256=27c256d55a4a7f2a4c00da5f4b24d5b69f4d540962e22f2c5eedc48c51c9291f\n",
            "  Stored in directory: /root/.cache/pip/wheels/92/a8/b7/d8a067c31a74de9ca252bbe53dea5f896faabd25d55f541037\n",
            "Successfully built GPUtil\n",
            "Installing collected packages: GPUtil, bitsandbytes\n",
            "Successfully installed GPUtil-1.4.0 bitsandbytes-0.48.1\n"
          ]
        }
      ],
      "source": [
        "!pip install -U bitsandbytes accelerate transformers peft GPUtil"
      ]
    },
    {
      "cell_type": "code",
      "execution_count": null,
      "id": "d776ed36-d248-421a-a76f-f1f5cec909a1",
      "metadata": {
        "id": "d776ed36-d248-421a-a76f-f1f5cec909a1"
      },
      "outputs": [],
      "source": [
        "import pandas as pd\n",
        "from sklearn.model_selection import train_test_split\n",
        "from sklearn.preprocessing import LabelEncoder\n",
        "from sklearn.metrics import confusion_matrix, ConfusionMatrixDisplay\n",
        "import torch\n",
        "from transformers import BertTokenizer, BertForSequenceClassification, AutoModelForSequenceClassification, BitsAndBytesConfig, DistilBertForSequenceClassification\n",
        "from torch.utils.data import Dataset, DataLoader\n",
        "from torch.optim import AdamW\n",
        "from tqdm import tqdm\n",
        "import time\n",
        "import matplotlib.pyplot as plt\n",
        "import copy\n",
        "from peft import VeraConfig, get_peft_model, LoraConfig\n",
        "import bitsandbytes as bnb\n",
        "import gc\n",
        "from sklearn.metrics import f1_score\n",
        "import GPUtil\n"
      ]
    },
    {
      "cell_type": "markdown",
      "id": "oWnAmpVZPAHf",
      "metadata": {
        "id": "oWnAmpVZPAHf"
      },
      "source": [
        "## Dataset Analysis\n",
        "Cursory analysis of the dataset to identify what could be a classification target\n",
        "\n",
        "Also only 10k rows are sampled to allow for an adequte training set while reducing the training times"
      ]
    },
    {
      "cell_type": "code",
      "execution_count": null,
      "id": "52de62da-f075-46be-a2f5-67ca6d7c5b39",
      "metadata": {
        "colab": {
          "base_uri": "https://localhost:8080/"
        },
        "id": "52de62da-f075-46be-a2f5-67ca6d7c5b39",
        "scrolled": true,
        "outputId": "ee083e73-4e4c-4f46-f120-9a3193a63184"
      },
      "outputs": [
        {
          "output_type": "stream",
          "name": "stdout",
          "text": [
            "=== Basic Info ===\n",
            "<class 'pandas.core.frame.DataFrame'>\n",
            "RangeIndex: 10000 entries, 0 to 9999\n",
            "Data columns (total 8 columns):\n",
            " #   Column           Non-Null Count  Dtype \n",
            "---  ------           --------------  ----- \n",
            " 0   recipe_title     10000 non-null  object\n",
            " 1   category         10000 non-null  object\n",
            " 2   subcategory      10000 non-null  object\n",
            " 3   description      10000 non-null  object\n",
            " 4   ingredients      10000 non-null  object\n",
            " 5   directions       10000 non-null  object\n",
            " 6   num_ingredients  10000 non-null  int64 \n",
            " 7   num_steps        10000 non-null  int64 \n",
            "dtypes: int64(2), object(6)\n",
            "memory usage: 625.1+ KB\n",
            "None\n",
            "\n",
            "=== Sunmmary Statistics ===\n",
            "       num_ingredients     num_steps\n",
            "count     10000.000000  10000.000000\n",
            "mean          9.031100      4.684600\n",
            "std           3.831632      2.299402\n",
            "min           1.000000      1.000000\n",
            "25%           6.000000      3.000000\n",
            "50%           9.000000      4.000000\n",
            "75%          11.000000      6.000000\n",
            "max          28.000000     25.000000\n"
          ]
        }
      ],
      "source": [
        "\n",
        "df = pd.read_csv('1_Recipe_csv.csv')\n",
        "df = df.sample(n=10000, random_state=42).reset_index(drop=True)\n",
        "print(\"=== Basic Info ===\")\n",
        "print(df.info())\n",
        "print(\"\\n=== Sunmmary Statistics ===\")\n",
        "print(df.describe())"
      ]
    },
    {
      "cell_type": "code",
      "execution_count": null,
      "id": "b_fiJlDAPL0u",
      "metadata": {
        "colab": {
          "base_uri": "https://localhost:8080/",
          "height": 363
        },
        "id": "b_fiJlDAPL0u",
        "outputId": "fe71bc02-c012-46af-a486-dba07fe27d17"
      },
      "outputs": [
        {
          "output_type": "execute_result",
          "data": {
            "text/plain": [
              "                          recipe_title         category  \\\n",
              "0  Pound Cake with Lemon Coconut Glaze            Cakes   \n",
              "1        Grandpa's Classic Coney Sauce         July 4Th   \n",
              "2             Air Fryer Baked Potatoes  Healthy Recipes   \n",
              "3               Sauerkraut Onion Bread     Yeast Breads   \n",
              "4          New Orleans Barbecue Shrimp       Mardi Gras   \n",
              "\n",
              "               subcategory                                        description  \\\n",
              "0             Coconut Cake  Healthier take on pound cake; indulge with no ...   \n",
              "1  4Th Of July Side Dishes  Coney sauce is a condiment of ground beef simm...   \n",
              "2  Low-Cholesterol Recipes  A baked potato in the air fryer comes out beau...   \n",
              "3                Rye Bread  This recipe was sent to us by Dixie Matt who o...   \n",
              "4   Mardi Gras Main Dishes  This New Orleans BBQ shrimp is a special entré...   \n",
              "\n",
              "                                         ingredients  \\\n",
              "0  [\"1 cup all-purpose flour\", \"3 tablespoons all...   \n",
              "1  [\"2 pounds ground beef\", \"\\u00bd cup chopped o...   \n",
              "2  [\"2 large russet potatoes, scrubbed\", \"1 table...   \n",
              "3  [\"2 \\u00bc cups bread flour\", \"1 cup milk\", \"\\...   \n",
              "4  [\"1 teaspoon garlic powder\", \"1 teaspoon onion...   \n",
              "\n",
              "                                          directions  num_ingredients  \\\n",
              "0  [\"Preheat the oven to 325 degrees F (165 degre...               12   \n",
              "1  [\"Gather the ingredients.\", \"Place ground beef...               10   \n",
              "2  [\"Gather all ingredients and preheat an air fr...                3   \n",
              "3  [\"Add the ingredients to the bread pan in the ...               12   \n",
              "4  [\"In a small bowl, stir together garlic powder...               13   \n",
              "\n",
              "   num_steps  \n",
              "0          8  \n",
              "1          4  \n",
              "2          3  \n",
              "3          1  \n",
              "4          2  "
            ],
            "text/html": [
              "\n",
              "  <div id=\"df-fffd06d0-d3ed-4f7a-a06a-d7e7ed630669\" class=\"colab-df-container\">\n",
              "    <div>\n",
              "<style scoped>\n",
              "    .dataframe tbody tr th:only-of-type {\n",
              "        vertical-align: middle;\n",
              "    }\n",
              "\n",
              "    .dataframe tbody tr th {\n",
              "        vertical-align: top;\n",
              "    }\n",
              "\n",
              "    .dataframe thead th {\n",
              "        text-align: right;\n",
              "    }\n",
              "</style>\n",
              "<table border=\"1\" class=\"dataframe\">\n",
              "  <thead>\n",
              "    <tr style=\"text-align: right;\">\n",
              "      <th></th>\n",
              "      <th>recipe_title</th>\n",
              "      <th>category</th>\n",
              "      <th>subcategory</th>\n",
              "      <th>description</th>\n",
              "      <th>ingredients</th>\n",
              "      <th>directions</th>\n",
              "      <th>num_ingredients</th>\n",
              "      <th>num_steps</th>\n",
              "    </tr>\n",
              "  </thead>\n",
              "  <tbody>\n",
              "    <tr>\n",
              "      <th>0</th>\n",
              "      <td>Pound Cake with Lemon Coconut Glaze</td>\n",
              "      <td>Cakes</td>\n",
              "      <td>Coconut Cake</td>\n",
              "      <td>Healthier take on pound cake; indulge with no ...</td>\n",
              "      <td>[\"1 cup all-purpose flour\", \"3 tablespoons all...</td>\n",
              "      <td>[\"Preheat the oven to 325 degrees F (165 degre...</td>\n",
              "      <td>12</td>\n",
              "      <td>8</td>\n",
              "    </tr>\n",
              "    <tr>\n",
              "      <th>1</th>\n",
              "      <td>Grandpa's Classic Coney Sauce</td>\n",
              "      <td>July 4Th</td>\n",
              "      <td>4Th Of July Side Dishes</td>\n",
              "      <td>Coney sauce is a condiment of ground beef simm...</td>\n",
              "      <td>[\"2 pounds ground beef\", \"\\u00bd cup chopped o...</td>\n",
              "      <td>[\"Gather the ingredients.\", \"Place ground beef...</td>\n",
              "      <td>10</td>\n",
              "      <td>4</td>\n",
              "    </tr>\n",
              "    <tr>\n",
              "      <th>2</th>\n",
              "      <td>Air Fryer Baked Potatoes</td>\n",
              "      <td>Healthy Recipes</td>\n",
              "      <td>Low-Cholesterol Recipes</td>\n",
              "      <td>A baked potato in the air fryer comes out beau...</td>\n",
              "      <td>[\"2 large russet potatoes, scrubbed\", \"1 table...</td>\n",
              "      <td>[\"Gather all ingredients and preheat an air fr...</td>\n",
              "      <td>3</td>\n",
              "      <td>3</td>\n",
              "    </tr>\n",
              "    <tr>\n",
              "      <th>3</th>\n",
              "      <td>Sauerkraut Onion Bread</td>\n",
              "      <td>Yeast Breads</td>\n",
              "      <td>Rye Bread</td>\n",
              "      <td>This recipe was sent to us by Dixie Matt who o...</td>\n",
              "      <td>[\"2 \\u00bc cups bread flour\", \"1 cup milk\", \"\\...</td>\n",
              "      <td>[\"Add the ingredients to the bread pan in the ...</td>\n",
              "      <td>12</td>\n",
              "      <td>1</td>\n",
              "    </tr>\n",
              "    <tr>\n",
              "      <th>4</th>\n",
              "      <td>New Orleans Barbecue Shrimp</td>\n",
              "      <td>Mardi Gras</td>\n",
              "      <td>Mardi Gras Main Dishes</td>\n",
              "      <td>This New Orleans BBQ shrimp is a special entré...</td>\n",
              "      <td>[\"1 teaspoon garlic powder\", \"1 teaspoon onion...</td>\n",
              "      <td>[\"In a small bowl, stir together garlic powder...</td>\n",
              "      <td>13</td>\n",
              "      <td>2</td>\n",
              "    </tr>\n",
              "  </tbody>\n",
              "</table>\n",
              "</div>\n",
              "    <div class=\"colab-df-buttons\">\n",
              "\n",
              "  <div class=\"colab-df-container\">\n",
              "    <button class=\"colab-df-convert\" onclick=\"convertToInteractive('df-fffd06d0-d3ed-4f7a-a06a-d7e7ed630669')\"\n",
              "            title=\"Convert this dataframe to an interactive table.\"\n",
              "            style=\"display:none;\">\n",
              "\n",
              "  <svg xmlns=\"http://www.w3.org/2000/svg\" height=\"24px\" viewBox=\"0 -960 960 960\">\n",
              "    <path d=\"M120-120v-720h720v720H120Zm60-500h600v-160H180v160Zm220 220h160v-160H400v160Zm0 220h160v-160H400v160ZM180-400h160v-160H180v160Zm440 0h160v-160H620v160ZM180-180h160v-160H180v160Zm440 0h160v-160H620v160Z\"/>\n",
              "  </svg>\n",
              "    </button>\n",
              "\n",
              "  <style>\n",
              "    .colab-df-container {\n",
              "      display:flex;\n",
              "      gap: 12px;\n",
              "    }\n",
              "\n",
              "    .colab-df-convert {\n",
              "      background-color: #E8F0FE;\n",
              "      border: none;\n",
              "      border-radius: 50%;\n",
              "      cursor: pointer;\n",
              "      display: none;\n",
              "      fill: #1967D2;\n",
              "      height: 32px;\n",
              "      padding: 0 0 0 0;\n",
              "      width: 32px;\n",
              "    }\n",
              "\n",
              "    .colab-df-convert:hover {\n",
              "      background-color: #E2EBFA;\n",
              "      box-shadow: 0px 1px 2px rgba(60, 64, 67, 0.3), 0px 1px 3px 1px rgba(60, 64, 67, 0.15);\n",
              "      fill: #174EA6;\n",
              "    }\n",
              "\n",
              "    .colab-df-buttons div {\n",
              "      margin-bottom: 4px;\n",
              "    }\n",
              "\n",
              "    [theme=dark] .colab-df-convert {\n",
              "      background-color: #3B4455;\n",
              "      fill: #D2E3FC;\n",
              "    }\n",
              "\n",
              "    [theme=dark] .colab-df-convert:hover {\n",
              "      background-color: #434B5C;\n",
              "      box-shadow: 0px 1px 3px 1px rgba(0, 0, 0, 0.15);\n",
              "      filter: drop-shadow(0px 1px 2px rgba(0, 0, 0, 0.3));\n",
              "      fill: #FFFFFF;\n",
              "    }\n",
              "  </style>\n",
              "\n",
              "    <script>\n",
              "      const buttonEl =\n",
              "        document.querySelector('#df-fffd06d0-d3ed-4f7a-a06a-d7e7ed630669 button.colab-df-convert');\n",
              "      buttonEl.style.display =\n",
              "        google.colab.kernel.accessAllowed ? 'block' : 'none';\n",
              "\n",
              "      async function convertToInteractive(key) {\n",
              "        const element = document.querySelector('#df-fffd06d0-d3ed-4f7a-a06a-d7e7ed630669');\n",
              "        const dataTable =\n",
              "          await google.colab.kernel.invokeFunction('convertToInteractive',\n",
              "                                                    [key], {});\n",
              "        if (!dataTable) return;\n",
              "\n",
              "        const docLinkHtml = 'Like what you see? Visit the ' +\n",
              "          '<a target=\"_blank\" href=https://colab.research.google.com/notebooks/data_table.ipynb>data table notebook</a>'\n",
              "          + ' to learn more about interactive tables.';\n",
              "        element.innerHTML = '';\n",
              "        dataTable['output_type'] = 'display_data';\n",
              "        await google.colab.output.renderOutput(dataTable, element);\n",
              "        const docLink = document.createElement('div');\n",
              "        docLink.innerHTML = docLinkHtml;\n",
              "        element.appendChild(docLink);\n",
              "      }\n",
              "    </script>\n",
              "  </div>\n",
              "\n",
              "\n",
              "    <div id=\"df-c6e6374d-cab8-4ecb-9450-0e71440fc604\">\n",
              "      <button class=\"colab-df-quickchart\" onclick=\"quickchart('df-c6e6374d-cab8-4ecb-9450-0e71440fc604')\"\n",
              "                title=\"Suggest charts\"\n",
              "                style=\"display:none;\">\n",
              "\n",
              "<svg xmlns=\"http://www.w3.org/2000/svg\" height=\"24px\"viewBox=\"0 0 24 24\"\n",
              "     width=\"24px\">\n",
              "    <g>\n",
              "        <path d=\"M19 3H5c-1.1 0-2 .9-2 2v14c0 1.1.9 2 2 2h14c1.1 0 2-.9 2-2V5c0-1.1-.9-2-2-2zM9 17H7v-7h2v7zm4 0h-2V7h2v10zm4 0h-2v-4h2v4z\"/>\n",
              "    </g>\n",
              "</svg>\n",
              "      </button>\n",
              "\n",
              "<style>\n",
              "  .colab-df-quickchart {\n",
              "      --bg-color: #E8F0FE;\n",
              "      --fill-color: #1967D2;\n",
              "      --hover-bg-color: #E2EBFA;\n",
              "      --hover-fill-color: #174EA6;\n",
              "      --disabled-fill-color: #AAA;\n",
              "      --disabled-bg-color: #DDD;\n",
              "  }\n",
              "\n",
              "  [theme=dark] .colab-df-quickchart {\n",
              "      --bg-color: #3B4455;\n",
              "      --fill-color: #D2E3FC;\n",
              "      --hover-bg-color: #434B5C;\n",
              "      --hover-fill-color: #FFFFFF;\n",
              "      --disabled-bg-color: #3B4455;\n",
              "      --disabled-fill-color: #666;\n",
              "  }\n",
              "\n",
              "  .colab-df-quickchart {\n",
              "    background-color: var(--bg-color);\n",
              "    border: none;\n",
              "    border-radius: 50%;\n",
              "    cursor: pointer;\n",
              "    display: none;\n",
              "    fill: var(--fill-color);\n",
              "    height: 32px;\n",
              "    padding: 0;\n",
              "    width: 32px;\n",
              "  }\n",
              "\n",
              "  .colab-df-quickchart:hover {\n",
              "    background-color: var(--hover-bg-color);\n",
              "    box-shadow: 0 1px 2px rgba(60, 64, 67, 0.3), 0 1px 3px 1px rgba(60, 64, 67, 0.15);\n",
              "    fill: var(--button-hover-fill-color);\n",
              "  }\n",
              "\n",
              "  .colab-df-quickchart-complete:disabled,\n",
              "  .colab-df-quickchart-complete:disabled:hover {\n",
              "    background-color: var(--disabled-bg-color);\n",
              "    fill: var(--disabled-fill-color);\n",
              "    box-shadow: none;\n",
              "  }\n",
              "\n",
              "  .colab-df-spinner {\n",
              "    border: 2px solid var(--fill-color);\n",
              "    border-color: transparent;\n",
              "    border-bottom-color: var(--fill-color);\n",
              "    animation:\n",
              "      spin 1s steps(1) infinite;\n",
              "  }\n",
              "\n",
              "  @keyframes spin {\n",
              "    0% {\n",
              "      border-color: transparent;\n",
              "      border-bottom-color: var(--fill-color);\n",
              "      border-left-color: var(--fill-color);\n",
              "    }\n",
              "    20% {\n",
              "      border-color: transparent;\n",
              "      border-left-color: var(--fill-color);\n",
              "      border-top-color: var(--fill-color);\n",
              "    }\n",
              "    30% {\n",
              "      border-color: transparent;\n",
              "      border-left-color: var(--fill-color);\n",
              "      border-top-color: var(--fill-color);\n",
              "      border-right-color: var(--fill-color);\n",
              "    }\n",
              "    40% {\n",
              "      border-color: transparent;\n",
              "      border-right-color: var(--fill-color);\n",
              "      border-top-color: var(--fill-color);\n",
              "    }\n",
              "    60% {\n",
              "      border-color: transparent;\n",
              "      border-right-color: var(--fill-color);\n",
              "    }\n",
              "    80% {\n",
              "      border-color: transparent;\n",
              "      border-right-color: var(--fill-color);\n",
              "      border-bottom-color: var(--fill-color);\n",
              "    }\n",
              "    90% {\n",
              "      border-color: transparent;\n",
              "      border-bottom-color: var(--fill-color);\n",
              "    }\n",
              "  }\n",
              "</style>\n",
              "\n",
              "      <script>\n",
              "        async function quickchart(key) {\n",
              "          const quickchartButtonEl =\n",
              "            document.querySelector('#' + key + ' button');\n",
              "          quickchartButtonEl.disabled = true;  // To prevent multiple clicks.\n",
              "          quickchartButtonEl.classList.add('colab-df-spinner');\n",
              "          try {\n",
              "            const charts = await google.colab.kernel.invokeFunction(\n",
              "                'suggestCharts', [key], {});\n",
              "          } catch (error) {\n",
              "            console.error('Error during call to suggestCharts:', error);\n",
              "          }\n",
              "          quickchartButtonEl.classList.remove('colab-df-spinner');\n",
              "          quickchartButtonEl.classList.add('colab-df-quickchart-complete');\n",
              "        }\n",
              "        (() => {\n",
              "          let quickchartButtonEl =\n",
              "            document.querySelector('#df-c6e6374d-cab8-4ecb-9450-0e71440fc604 button');\n",
              "          quickchartButtonEl.style.display =\n",
              "            google.colab.kernel.accessAllowed ? 'block' : 'none';\n",
              "        })();\n",
              "      </script>\n",
              "    </div>\n",
              "\n",
              "    </div>\n",
              "  </div>\n"
            ],
            "application/vnd.google.colaboratory.intrinsic+json": {
              "type": "dataframe",
              "variable_name": "df",
              "summary": "{\n  \"name\": \"df\",\n  \"rows\": 10000,\n  \"fields\": [\n    {\n      \"column\": \"recipe_title\",\n      \"properties\": {\n        \"dtype\": \"string\",\n        \"num_unique_values\": 7916,\n        \"samples\": [\n          \"Pineapple and Banana Smoothie\",\n          \"Coricos Sonorenses (Corn Flour Cookies)\",\n          \"Homemade Corn Tortillas\"\n        ],\n        \"semantic_type\": \"\",\n        \"description\": \"\"\n      }\n    },\n    {\n      \"column\": \"category\",\n      \"properties\": {\n        \"dtype\": \"category\",\n        \"num_unique_values\": 260,\n        \"samples\": [\n          \"Cheesecakes\",\n          \"Popovers And Yorkshire Puddings\",\n          \"Blondies\"\n        ],\n        \"semantic_type\": \"\",\n        \"description\": \"\"\n      }\n    },\n    {\n      \"column\": \"subcategory\",\n      \"properties\": {\n        \"dtype\": \"category\",\n        \"num_unique_values\": 1003,\n        \"samples\": [\n          \"Cream Of Mushroom Soup\",\n          \"Cooking For A Crowd Appetizers\",\n          \"Low-Fat Salads\"\n        ],\n        \"semantic_type\": \"\",\n        \"description\": \"\"\n      }\n    },\n    {\n      \"column\": \"description\",\n      \"properties\": {\n        \"dtype\": \"string\",\n        \"num_unique_values\": 7923,\n        \"samples\": [\n          \"This easy slow cooker 4-ingredient potato soup uses garlic and herb cheese spread and potatoes O'Brien with onions and peppers to build flavor without increasing prep time. It's a great addition to your soup season repertoire.\",\n          \"These Maryland crab cakes are made with jumbo lump crabmeat, traditional seasonings, and an almond flour breading. Add celery, jalape\\u00f1os, or other ingredients \\u2014 feel free to get creative! You can also use chopped shrimp in this recipe to make shrimp cakes.\",\n          \"These scrambled eggs with cottage cheese are creamy, fluffy, and make a delicious change from regular scrambled eggs. Perfect with a slice of tomato and turkey bacon for a delicious and fast low-carb breakfast.\"\n        ],\n        \"semantic_type\": \"\",\n        \"description\": \"\"\n      }\n    },\n    {\n      \"column\": \"ingredients\",\n      \"properties\": {\n        \"dtype\": \"string\",\n        \"num_unique_values\": 7913,\n        \"samples\": [\n          \"[\\\"4 medium baking potatoes, sliced 1/8-inch thick\\\", \\\"\\\\u215b teaspoon garlic powder\\\", \\\"\\\\u215b teaspoon ground black pepper\\\", \\\"\\\\u215b teaspoon celery seed\\\", \\\"\\\\u215b teaspoon paprika\\\", \\\"1 pinch cayenne pepper\\\", \\\"1 dash salt\\\", \\\"4 tablespoons olive oil, or more as needed\\\"]\",\n          \"[\\\"4 skinless, boneless chicken breast halves - cut into 1 inch cubes\\\", \\\"20 peeled and deveined large shrimp (21 to 30 per pound)\\\", \\\"4 teaspoons soy sauce\\\", \\\"4 teaspoons rice wine\\\", \\\"2 teaspoons sesame oil (Optional)\\\", \\\"1 tablespoon cornstarch\\\", \\\"\\\\u00bd cup vegetable oil, divided\\\", \\\"4 cloves garlic, minced\\\", \\\"16 dried red chile peppers, cut in half\\\", \\\"2 teaspoons Sichuan peppercorns (Optional)\\\", \\\"1 red bell pepper, sliced\\\", \\\"1 green bell pepper, sliced\\\", \\\"\\\\u00bc cup dark soy sauce\\\", \\\"2 tablespoons rice wine\\\", \\\"2 teaspoons white sugar\\\", \\\"1 cup salted peanuts\\\", \\\"4 green onions, cut into 3 inch lengths\\\", \\\"2 dashes sesame oil, or to taste (Optional)\\\"]\",\n          \"[\\\"3 medium potatoes, peeled and cubed\\\", \\\"4 teaspoons vegetable oil, divided, or as needed\\\", \\\"\\\\u00bc teaspoon cumin seeds\\\", \\\"2 green chile peppers, minced\\\", \\\"6 fresh curry leaves\\\", \\\"\\\\u00bd teaspoon minced fresh ginger\\\", \\\"1 pinch ground turmeric, or to taste\\\", \\\"salt to taste\\\", \\\"5 cups whole wheat flour, divided\\\", \\\"1 \\\\u00bc cups water\\\"]\"\n        ],\n        \"semantic_type\": \"\",\n        \"description\": \"\"\n      }\n    },\n    {\n      \"column\": \"directions\",\n      \"properties\": {\n        \"dtype\": \"string\",\n        \"num_unique_values\": 7922,\n        \"samples\": [\n          \"[\\\"Combine all ingredients except the dressing in large bowl. Add dressing; toss well. Serve chilled or at room temperature.\\\"]\",\n          \"[\\\"Whisk egg, mayonnaise, seafood seasoning, Dijon, Worcestershire sauce, hot sauce, lemon juice, and pepper together in a bowl.\\\", \\\"Place crabmeat into a separate bowl; add mayonnaise mixture and gently mix with your hands to combine. Mix in 1/4 cup almond flour, bell pepper, green onion, and parsley. Form mixture into six round cakes.\\\", \\\"Dredge each cake in remaining 1/3 cup almond flour and place onto a parchment-lined sheet pan. Cover and refrigerate for at least 1 hour.\\\", \\\"Preheat the oven to 400 degrees F (200 degrees C).\\\", \\\"Bake crab cakes, uncovered, in the preheated oven until golden brown, 15 to 20 minutes.\\\"]\",\n          \"[\\\"In large pot saute; the onions, garlic, and ginger in a little olive oil for about 5 minutes.\\\", \\\"Add the water, lentils, chick peas, white kidney beans, diced tomatoes, carrots, celery, garam masala, cardamom, cayenne pepper and cumin. Bring to a boil for a few minutes then simmer for 1 to 1 1/2 hours or longer, until the lentils are soft.\\\", \\\"Puree half the soup in a food processor or blender. Return the pureed soup to the pot, stir and enjoy!\\\"]\"\n        ],\n        \"semantic_type\": \"\",\n        \"description\": \"\"\n      }\n    },\n    {\n      \"column\": \"num_ingredients\",\n      \"properties\": {\n        \"dtype\": \"number\",\n        \"std\": 3,\n        \"min\": 1,\n        \"max\": 28,\n        \"num_unique_values\": 28,\n        \"samples\": [\n          6,\n          22,\n          8\n        ],\n        \"semantic_type\": \"\",\n        \"description\": \"\"\n      }\n    },\n    {\n      \"column\": \"num_steps\",\n      \"properties\": {\n        \"dtype\": \"number\",\n        \"std\": 2,\n        \"min\": 1,\n        \"max\": 25,\n        \"num_unique_values\": 20,\n        \"samples\": [\n          8,\n          17,\n          18\n        ],\n        \"semantic_type\": \"\",\n        \"description\": \"\"\n      }\n    }\n  ]\n}"
            }
          },
          "metadata": {},
          "execution_count": 5
        }
      ],
      "source": [
        "df.head()"
      ]
    },
    {
      "cell_type": "markdown",
      "source": [
        "Graphing the numerical num_ingrediants to draw logical categories for the classes"
      ],
      "metadata": {
        "id": "blv7q8aahx9N"
      },
      "id": "blv7q8aahx9N"
    },
    {
      "cell_type": "code",
      "execution_count": null,
      "id": "5f904967-7182-47f9-a955-cc12825b23c8",
      "metadata": {
        "colab": {
          "base_uri": "https://localhost:8080/",
          "height": 607
        },
        "id": "5f904967-7182-47f9-a955-cc12825b23c8",
        "outputId": "e5a13033-2a75-4e5e-9885-ec9017f94cb5"
      },
      "outputs": [
        {
          "output_type": "display_data",
          "data": {
            "text/plain": [
              "<Figure size 1200x600 with 1 Axes>"
            ],
            "image/png": "[encoded data removed]"
          },
          "metadata": {}
        }
      ],
      "source": [
        "\n",
        "cols = ['num_ingredients']\n",
        "plt.figure(figsize=(12, 6))\n",
        "\n",
        "for i, col in enumerate(cols, 1):\n",
        "    plt.subplot(1, len(cols), i)\n",
        "    df[col].value_counts().sort_index().plot(kind='bar')\n",
        "    plt.title(f\"Count of Each Value in {col}\")\n",
        "    plt.xlabel(col)\n",
        "    plt.ylabel(\"Count\")\n",
        "\n",
        "plt.tight_layout()\n",
        "plt.show()\n",
        "\n"
      ]
    },
    {
      "cell_type": "markdown",
      "id": "YawKYzHvPEbG",
      "metadata": {
        "id": "YawKYzHvPEbG"
      },
      "source": [
        "## Set Labels for Classification Model"
      ]
    },
    {
      "cell_type": "code",
      "execution_count": null,
      "id": "enjWfr0jj07W",
      "metadata": {
        "id": "enjWfr0jj07W"
      },
      "outputs": [],
      "source": [
        "def label_recipe(num_ingredients):\n",
        "  if num_ingredients <= 6:\n",
        "    return 'Student'\n",
        "  if num_ingredients <=10:\n",
        "    return 'Regular'\n",
        "  else:\n",
        "    return 'Complex'"
      ]
    },
    {
      "cell_type": "code",
      "execution_count": null,
      "id": "85a523d1-cac3-469c-a08c-8e57ae508422",
      "metadata": {
        "id": "85a523d1-cac3-469c-a08c-8e57ae508422"
      },
      "outputs": [],
      "source": [
        "df['recipe_level'] = df.apply(lambda row: label_recipe(row.num_ingredients), axis=1)"
      ]
    },
    {
      "cell_type": "code",
      "execution_count": null,
      "id": "bf17e444-8acc-4461-a93c-2cf9bf7fc31d",
      "metadata": {
        "id": "bf17e444-8acc-4461-a93c-2cf9bf7fc31d"
      },
      "outputs": [],
      "source": [
        "# Create an label encoder based off the unique values in recipe_level, done this way to be dynamic if more categories are added\n",
        "label_encoder = LabelEncoder()\n",
        "df[\"recipe_level_encoded\"] = label_encoder.fit_transform(df[\"recipe_level\"])\n",
        "\n",
        "# Split into training and validation sets\n",
        "train_texts, val_texts, train_labels, val_labels = train_test_split(\n",
        "    df[\"directions\"].values, df[\"recipe_level_encoded\"].values,\n",
        "    test_size=0.2, random_state=42,)"
      ]
    },
    {
      "cell_type": "markdown",
      "id": "fOVSxVDFPQbY",
      "metadata": {
        "id": "fOVSxVDFPQbY"
      },
      "source": [
        "## Create loader"
      ]
    },
    {
      "cell_type": "code",
      "execution_count": null,
      "id": "20d78ad2-0b00-413b-991b-1732533a20c4",
      "metadata": {
        "id": "20d78ad2-0b00-413b-991b-1732533a20c4",
        "colab": {
          "base_uri": "https://localhost:8080/",
          "height": 326,
          "referenced_widgets": [
            "3e075326f05d439b87e6176ed4b167df",
            "d2f113ec0de54139b4ef188625524502",
            "ded0de7c8f754cad87f467ceff43f555",
            "6ddb1311764d4c0c98207f7f6724d164",
            "930026104d784c6ca9740946b7d13a94",
            "2caeaebb588948cb90e03221dcce6ca7",
            "6462846fa2074dcbb9f33774d300c358",
            "f6a5b1648679409b935139dafd3fd2ae",
            "3a5a3edc3bcd426cbf1026e6fc955b0c",
            "a2d023158ed84a7e95e0ec47d3dbc52c",
            "65b97bb386c54c4b9e4a85d6cacca8ae",
            "1df78c94159f49849f66a42aed6d27e0",
            "abcf27c538664f81b575c213f475af7f",
            "6c1ae8eb5fc146bcb5f729bdb2835431",
            "fd7decec22104ae992757600f33d783c",
            "d2c8e05b7b934d459493216dca9d78fb",
            "28abcc7ecbff483184b1dec845112c54",
            "8ae4642fbb3247b78f15ef7435f7b5c8",
            "c45a3bb285e147498d0b06a845d9f05e",
            "7dd610b526544ba5a51678b743c1ecd2",
            "40c58a5cb886421c83df2b7d975f4c63",
            "8361dacbbfe44bcea681ac355af114db",
            "a0b6f12f8bbe4ca29f9a0329d4990b23",
            "b244d1b8b9404fa390a6d29c218385bc",
            "c2b931f8646748a489238839d9c1cdb1",
            "655e457d289747008649870c194b0621",
            "87c629e9713f4135ae18ec66b82a081e",
            "e385cf019dac454693919c86d94b4721",
            "248b88f61402440f8c6d912841bcde58",
            "e4a586d68ecf46d4a99f706bbcf509da",
            "e52dbb8725ae41209e1d8ee573448a02",
            "e02139adce5b4e4eb652f19bcfad4967",
            "bd60ab0fda3544a7b78cf2e75a067a21",
            "c26b93dbbba34f22adb2f5354b1411fc",
            "491f25ff3edc4e9baa71f44068d56b22",
            "38f67a56bc0d4e6e9742e5fea9bc0b5e",
            "cebdc58836764d5a8c499fda91eb742f",
            "408bf9a22a4d41138ae2a76f9dc6d420",
            "4eb562d7c6654b1482edd126611d3eed",
            "1eaa3f946c19475fb7de2984d239824f",
            "0602755f81e8462aa9c8f6abea2b4874",
            "f21fcf4b34ee4784af55e4437ff84f90",
            "7aaf64d20981491883ed81948c6cd6f5",
            "a6743c6f30b044ecbb2189a368adb911"
          ]
        },
        "outputId": "e5ae66a3-3ce8-4c13-bf94-e6ac68b7e2a3"
      },
      "outputs": [
        {
          "output_type": "stream",
          "name": "stderr",
          "text": [
            "/usr/local/lib/python3.12/dist-packages/huggingface_hub/utils/_auth.py:94: UserWarning: \n",
            "The secret `HF_TOKEN` does not exist in your Colab secrets.\n",
            "To authenticate with the Hugging Face Hub, create a token in your settings tab (https://huggingface.co/settings/tokens), set it as secret in your Google Colab and restart your session.\n",
            "You will be able to reuse this secret in all of your notebooks.\n",
            "Please note that authentication is recommended but still optional to access public models or datasets.\n",
            "  warnings.warn(\n"
          ]
        },
        {
          "output_type": "display_data",
          "data": {
            "text/plain": [
              "tokenizer_config.json:   0%|          | 0.00/48.0 [00:00<?, ?B/s]"
            ],
            "application/vnd.jupyter.widget-view+json": {
              "version_major": 2,
              "version_minor": 0,
              "model_id": "3e075326f05d439b87e6176ed4b167df"
            }
          },
          "metadata": {}
        },
        {
          "output_type": "display_data",
          "data": {
            "text/plain": [
              "vocab.txt:   0%|          | 0.00/232k [00:00<?, ?B/s]"
            ],
            "application/vnd.jupyter.widget-view+json": {
              "version_major": 2,
              "version_minor": 0,
              "model_id": "1df78c94159f49849f66a42aed6d27e0"
            }
          },
          "metadata": {}
        },
        {
          "output_type": "display_data",
          "data": {
            "text/plain": [
              "tokenizer.json:   0%|          | 0.00/466k [00:00<?, ?B/s]"
            ],
            "application/vnd.jupyter.widget-view+json": {
              "version_major": 2,
              "version_minor": 0,
              "model_id": "a0b6f12f8bbe4ca29f9a0329d4990b23"
            }
          },
          "metadata": {}
        },
        {
          "output_type": "display_data",
          "data": {
            "text/plain": [
              "config.json:   0%|          | 0.00/483 [00:00<?, ?B/s]"
            ],
            "application/vnd.jupyter.widget-view+json": {
              "version_major": 2,
              "version_minor": 0,
              "model_id": "c26b93dbbba34f22adb2f5354b1411fc"
            }
          },
          "metadata": {}
        },
        {
          "output_type": "stream",
          "name": "stderr",
          "text": [
            "The tokenizer class you load from this checkpoint is not the same type as the class this function is called from. It may result in unexpected tokenization. \n",
            "The tokenizer class you load from this checkpoint is 'DistilBertTokenizer'. \n",
            "The class this function is called from is 'BertTokenizer'.\n"
          ]
        }
      ],
      "source": [
        "# Pull a tokeniser down based on our base model\n",
        "tokenizer = BertTokenizer.from_pretrained(\"distilbert-base-uncased\")"
      ]
    },
    {
      "cell_type": "code",
      "execution_count": null,
      "id": "a7c21a6a-8860-4e2a-9ffa-4e4f173c1d62",
      "metadata": {
        "id": "a7c21a6a-8860-4e2a-9ffa-4e4f173c1d62"
      },
      "outputs": [],
      "source": [
        "# A classifier class to work with the bath loader, it is needed to convert the\n",
        "# base description into tokens with encoding with the correct label attached per\n",
        "# item\n",
        "class ClassificationDataset(Dataset):\n",
        "    def __init__(self, texts, labels, tokenizer, max_len):\n",
        "        self.texts = texts\n",
        "        self.labels = labels\n",
        "        self.tokenizer = tokenizer\n",
        "        self.max_len = max_len\n",
        "\n",
        "    def __len__(self):\n",
        "        return len(self.texts)\n",
        "\n",
        "    def __getitem__(self, idx):\n",
        "        text = self.texts[idx]\n",
        "        label = self.labels[idx]\n",
        "        encoding = self.tokenizer(\n",
        "            text,\n",
        "            add_special_tokens=True,\n",
        "            max_length=self.max_len,\n",
        "            padding=\"max_length\",\n",
        "            truncation=True,\n",
        "            return_tensors=\"pt\",\n",
        "        )\n",
        "        return {\n",
        "            \"input_ids\": encoding[\"input_ids\"].squeeze(0),\n",
        "            \"attention_mask\": encoding[\"attention_mask\"].squeeze(0),\n",
        "            \"label\": torch.tensor(label, dtype=torch.long),\n",
        "        }\n",
        "\n"
      ]
    },
    {
      "cell_type": "markdown",
      "id": "Zy1Q7JhCPUQ5",
      "metadata": {
        "id": "Zy1Q7JhCPUQ5"
      },
      "source": [
        "## Model Training Loop"
      ]
    },
    {
      "cell_type": "code",
      "execution_count": null,
      "id": "7weZh9I-YpHn",
      "metadata": {
        "id": "7weZh9I-YpHn"
      },
      "outputs": [],
      "source": [
        "def measure_gpu_usage(device=\"cuda\"):\n",
        "    torch.cuda.synchronize()\n",
        "    gc.collect()\n",
        "    torch.cuda.empty_cache()\n",
        "\n",
        "    allocated = torch.cuda.memory_allocated(device) / (1024 ** 3)\n",
        "    reserved = torch.cuda.memory_reserved(device) / (1024 ** 3)\n",
        "    gpu_info = GPUtil.getGPUs()[0]\n",
        "    gputil_used = gpu_info.memoryUsed / 1024\n",
        "\n",
        "    return gputil_used"
      ]
    },
    {
      "cell_type": "code",
      "execution_count": null,
      "id": "naq4yxirrZxM",
      "metadata": {
        "id": "naq4yxirrZxM"
      },
      "outputs": [],
      "source": [
        "def train_model(model_train, epochs, fine_tune_type, optimizer, train_loader):\n",
        "\n",
        "  fine_tune_start = time.perf_counter()\n",
        "  #Return early if on CPU (Not worth it)\n",
        "  if torch.cuda.is_available():\n",
        "      torch.cuda.reset_peak_memory_stats(device)\n",
        "  else:\n",
        "    return\n",
        "\n",
        "  total_avg_memory_use = []\n",
        "  for epoch in range(epochs):\n",
        "      # Set model into training mode\n",
        "      model_train.train()\n",
        "      total_loss = 0\n",
        "      # Create a loading loop to loop through the total dataset in batches\n",
        "      loop = tqdm(train_loader, leave=True)\n",
        "      for batch in loop:\n",
        "          #Stop accumalted gradients from older batches\n",
        "          optimizer.zero_grad()\n",
        "\n",
        "          #Move inputs to GPU\n",
        "          input_ids = batch[\"input_ids\"].to(device)\n",
        "          attention_mask = batch[\"attention_mask\"].to(device)\n",
        "          labels = batch[\"label\"].to(device)\n",
        "\n",
        "\n",
        "          #Forward pass of the model\n",
        "          outputs = model_train(input_ids=input_ids, attention_mask=attention_mask, labels=labels)\n",
        "          loss = outputs.loss\n",
        "          total_loss += loss.item()\n",
        "\n",
        "          #Calculate gradients (Autodiff)\n",
        "          loss.backward()\n",
        "\n",
        "          #Clip gradients to remove risk of exploding gradients\n",
        "          torch.nn.utils.clip_grad_norm_(model_train.parameters(), 1.0)\n",
        "\n",
        "          #Backpropagation of weights update\n",
        "          optimizer.step()\n",
        "\n",
        "\n",
        "          loop.set_description(f\"Epoch {epoch}\")\n",
        "          loop.set_postfix(loss=loss.item())\n",
        "\n",
        "      print(f\"Epoch {epoch} Loss: {total_loss / len(train_loader)}\")\n",
        "      gpu_mem = measure_gpu_usage()\n",
        "      total_avg_memory_use.append(gpu_mem)\n",
        "      max_mem_allocated = torch.cuda.max_memory_allocated(device) / (1024 ** 3)\n",
        "\n",
        "  fine_tune_end = time.perf_counter()\n",
        "  fine_tune_time = fine_tune_end - fine_tune_start\n",
        "  print(f\"Ran the model in {fine_tune_time} seconds\")\n",
        "  Model_train_time[fine_tune_type] = fine_tune_time\n",
        "  Model_trained_params[fine_tune_type] = sum(p.numel() for p in model_train.parameters() if p.requires_grad)\n",
        "  Model_trained_memory_use[fine_tune_type] = sum(total_avg_memory_use) / len(total_avg_memory_use)\n",
        "\n",
        "  # final peak memory usage\n",
        "  if torch.cuda.is_available():\n",
        "      peak_mem = torch.cuda.max_memory_allocated(device) / (1024 ** 3)\n",
        "      print(f\"Peak GPU memory used during training: {peak_mem:.2f} GB\")"
      ]
    },
    {
      "cell_type": "markdown",
      "id": "DmdMbnn3PWaq",
      "metadata": {
        "id": "DmdMbnn3PWaq"
      },
      "source": [
        "## Model Evaluation\n",
        "\n",
        "Evaluation for f1 score and accuracy of the model"
      ]
    },
    {
      "cell_type": "code",
      "execution_count": null,
      "id": "8vFPtzUQwDzJ",
      "metadata": {
        "id": "8vFPtzUQwDzJ"
      },
      "outputs": [],
      "source": [
        "def eval_model(model, val_loader, fine_tune_type):\n",
        "  model.eval()\n",
        "  correct = 0\n",
        "  total = 0\n",
        "\n",
        "  all_labels = []\n",
        "  all_predictions = []\n",
        "\n",
        "  with torch.no_grad():\n",
        "      for batch in val_loader:\n",
        "          input_ids = batch[\"input_ids\"].to(device)\n",
        "          attention_mask = batch[\"attention_mask\"].to(device)\n",
        "          labels = batch[\"label\"].to(device)\n",
        "\n",
        "\n",
        "          outputs = model(input_ids=input_ids, attention_mask=attention_mask)\n",
        "          #Calculate predictions based logits\n",
        "          predictions = torch.argmax(outputs.logits, dim=1)\n",
        "\n",
        "          correct += (predictions == labels).sum().item()\n",
        "          total += labels.size(0)\n",
        "\n",
        "          # Store for confusion matrix\n",
        "          all_labels.extend(labels.cpu().numpy())\n",
        "          all_predictions.extend(predictions.cpu().numpy())\n",
        "\n",
        "  accuracy = correct / total\n",
        "  Model_trained_accuracy[fine_tune_type] = accuracy\n",
        "  print(f\"Validation Accuracy: {accuracy:.4f}\")\n",
        "\n",
        "  f1score = f1_score(all_labels, all_predictions, average=\"weighted\")\n",
        "  Model_trained_f1_score[fine_tune_type] = f1score\n",
        "\n",
        "  cm = confusion_matrix(all_labels, all_predictions)\n",
        "  disp = ConfusionMatrixDisplay(confusion_matrix=cm)\n",
        "  disp.plot(cmap=\"Blues\", values_format=\"d\")\n",
        "  plt.title(\"Confusion Matrix\")\n",
        "  plt.show()"
      ]
    },
    {
      "cell_type": "markdown",
      "id": "7FgMKBYKPgBr",
      "metadata": {
        "id": "7FgMKBYKPgBr"
      },
      "source": [
        "## Loader Initialisation Helper"
      ]
    },
    {
      "cell_type": "code",
      "execution_count": null,
      "id": "Qpy5g7g3P-RY",
      "metadata": {
        "id": "Qpy5g7g3P-RY"
      },
      "outputs": [],
      "source": [
        "def init_loader(max_len, batch_size):\n",
        "  #Put train test split dataset into the wrapper class\n",
        "  train_dataset = ClassificationDataset(train_texts, train_labels, tokenizer, max_len)\n",
        "  val_dataset = ClassificationDataset(val_texts, val_labels, tokenizer, max_len)\n",
        "\n",
        "  # Create DataLoaders for the batch looping\n",
        "  train_loader = DataLoader(train_dataset, batch_size=batch_size, shuffle=True)\n",
        "  val_loader = DataLoader(val_dataset, batch_size=batch_size, shuffle=False)\n",
        "  return train_loader,val_loader"
      ]
    },
    {
      "cell_type": "code",
      "source": [
        "def count_parameters(model):\n",
        "  bytes_per_param = next(model.parameters()).element_size()\n",
        "  total_params = sum(p.numel() for p in model.parameters())\n",
        "  trainable_params = sum(p.numel() for p in model.parameters() if p.requires_grad)\n",
        "  bytes_per_param = next(model.parameters()).element_size()\n",
        "\n",
        "  print(f\"Total params: {total_params:,}\")\n",
        "  print(f\"Trainable params: {trainable_params:,}\")\n",
        "  print(f\"Model size (all): {total_params * bytes_per_param / 1e6:.2f} MB\")\n",
        "  print(f\"Trainable only: {trainable_params * bytes_per_param / 1e6:.2f} MB\")\n",
        "  print(f\"Percentage trainable: {100 * trainable_params / total_params:.2f}%\")"
      ],
      "metadata": {
        "id": "Czp9gu5zSKE3"
      },
      "id": "Czp9gu5zSKE3",
      "execution_count": null,
      "outputs": []
    },
    {
      "cell_type": "markdown",
      "id": "ildIn9dJPmHH",
      "metadata": {
        "id": "ildIn9dJPmHH"
      },
      "source": [
        "## Device Setup"
      ]
    },
    {
      "cell_type": "code",
      "execution_count": null,
      "id": "c53173c4-9e0f-414b-a134-59a2ccaab595",
      "metadata": {
        "id": "c53173c4-9e0f-414b-a134-59a2ccaab595"
      },
      "outputs": [],
      "source": [
        "# Model and Device Setup\n",
        "if torch.cuda.is_available():\n",
        "    device = torch.device(\"cuda\")\n",
        "elif torch.backends.mps.is_available():\n",
        "    device = torch.device(\"mps\")\n",
        "elif hasattr(torch, \"xpu\") and torch.xpu.is_available():\n",
        "    device = torch.device(\"xpu\")\n",
        "else:\n",
        "    device = torch.device(\"cpu\")\n"
      ]
    },
    {
      "cell_type": "markdown",
      "id": "pbabt7TZPsEO",
      "metadata": {
        "id": "pbabt7TZPsEO"
      },
      "source": [
        "## Global Variables"
      ]
    },
    {
      "cell_type": "code",
      "execution_count": null,
      "id": "sqA4WNAwwG-G",
      "metadata": {
        "id": "sqA4WNAwwG-G"
      },
      "outputs": [],
      "source": [
        "# Monitoring Variables\n",
        "Model_train_time = {}\n",
        "Model_trained_params = {}\n",
        "Model_trained_accuracy = {}\n",
        "Model_trained_memory_use = {}\n",
        "Model_trained_f1_score = {}\n",
        "\n",
        "max_len = 256\n",
        "epochs = 6"
      ]
    },
    {
      "cell_type": "markdown",
      "id": "66aI06YcPnv1",
      "metadata": {
        "id": "66aI06YcPnv1"
      },
      "source": [
        "## Base Model Initialisation"
      ]
    },
    {
      "cell_type": "code",
      "execution_count": null,
      "id": "bvdIw-eBrbvw",
      "metadata": {
        "id": "bvdIw-eBrbvw",
        "colab": {
          "base_uri": "https://localhost:8080/"
        },
        "outputId": "8a990e81-057b-4896-c50e-096d43b2b5fa"
      },
      "outputs": [
        {
          "output_type": "stream",
          "name": "stderr",
          "text": [
            "Some weights of DistilBertForSequenceClassification were not initialized from the model checkpoint at distilbert-base-uncased and are newly initialized: ['classifier.bias', 'classifier.weight', 'pre_classifier.bias', 'pre_classifier.weight']\n",
            "You should probably TRAIN this model on a down-stream task to be able to use it for predictions and inference.\n"
          ]
        }
      ],
      "source": [
        "base_model = DistilBertForSequenceClassification.from_pretrained( \"distilbert-base-uncased\",\n",
        "                                 num_labels=len(label_encoder.classes_))"
      ]
    },
    {
      "cell_type": "markdown",
      "id": "Fyd8N3_zPvvb",
      "metadata": {
        "id": "Fyd8N3_zPvvb"
      },
      "source": [
        "## Base Fine Tuning Model"
      ]
    },
    {
      "cell_type": "code",
      "source": [
        "model = copy.deepcopy(base_model)\n",
        "#Params are token input length and batch size\n",
        "train_loader_ft, val_loader_ft = init_loader(max_len, 16)\n",
        "count_parameters(model)"
      ],
      "metadata": {
        "colab": {
          "base_uri": "https://localhost:8080/"
        },
        "id": "E-QyL9h7O7fj",
        "outputId": "8481a467-a10c-4ae9-d2e6-ed7462275add"
      },
      "id": "E-QyL9h7O7fj",
      "execution_count": null,
      "outputs": [
        {
          "output_type": "stream",
          "name": "stdout",
          "text": [
            "Total params: 66,955,779\n",
            "Trainable params: 66,955,779\n",
            "Model size (all): 267.82 MB\n",
            "Trainable only: 267.82 MB\n",
            "Percentage trainable: 100.00%\n"
          ]
        }
      ]
    },
    {
      "cell_type": "code",
      "execution_count": null,
      "id": "379lKF58q_kp",
      "metadata": {
        "id": "379lKF58q_kp",
        "colab": {
          "base_uri": "https://localhost:8080/",
          "height": 740
        },
        "outputId": "a8ab7f4c-6c81-40e4-b0ca-65cb35c6222c"
      },
      "outputs": [
        {
          "output_type": "stream",
          "name": "stderr",
          "text": [
            "Epoch 0: 100%|██████████| 500/500 [01:01<00:00,  8.13it/s, loss=0.654]\n"
          ]
        },
        {
          "output_type": "stream",
          "name": "stdout",
          "text": [
            "Epoch 0 Loss: 0.7358328953683376\n"
          ]
        },
        {
          "output_type": "stream",
          "name": "stderr",
          "text": [
            "Epoch 1: 100%|██████████| 500/500 [01:01<00:00,  8.09it/s, loss=0.328]\n"
          ]
        },
        {
          "output_type": "stream",
          "name": "stdout",
          "text": [
            "Epoch 1 Loss: 0.5193573810607195\n"
          ]
        },
        {
          "output_type": "stream",
          "name": "stderr",
          "text": [
            "Epoch 2: 100%|██████████| 500/500 [01:01<00:00,  8.12it/s, loss=0.292]\n"
          ]
        },
        {
          "output_type": "stream",
          "name": "stdout",
          "text": [
            "Epoch 2 Loss: 0.41236863128095863\n"
          ]
        },
        {
          "output_type": "stream",
          "name": "stderr",
          "text": [
            "Epoch 3: 100%|██████████| 500/500 [01:01<00:00,  8.11it/s, loss=0.579]\n"
          ]
        },
        {
          "output_type": "stream",
          "name": "stdout",
          "text": [
            "Epoch 3 Loss: 0.2992567280288786\n"
          ]
        },
        {
          "output_type": "stream",
          "name": "stderr",
          "text": [
            "Epoch 4: 100%|██████████| 500/500 [01:01<00:00,  8.12it/s, loss=0.0699]\n"
          ]
        },
        {
          "output_type": "stream",
          "name": "stdout",
          "text": [
            "Epoch 4 Loss: 0.2232485524462536\n"
          ]
        },
        {
          "output_type": "stream",
          "name": "stderr",
          "text": [
            "Epoch 5: 100%|██████████| 500/500 [01:01<00:00,  8.07it/s, loss=0.372]\n"
          ]
        },
        {
          "output_type": "stream",
          "name": "stdout",
          "text": [
            "Epoch 5 Loss: 0.1665982916445937\n",
            "Ran the model in 372.33775759300005 seconds\n",
            "Peak GPU memory used during training: 3.08 GB\n",
            "Validation Accuracy: 0.8420\n"
          ]
        },
        {
          "output_type": "display_data",
          "data": {
            "text/plain": [
              "<Figure size 640x480 with 2 Axes>"
            ],
            "image/png": "[encoded data removed]"
          },
          "metadata": {}
        }
      ],
      "source": [
        "\n",
        "model.to(device)\n",
        "\n",
        "optimizer = AdamW(model.parameters(), lr=5e-5)\n",
        "train_model(model, epochs, 'FineTune', optimizer, train_loader_ft)\n",
        "eval_model(model, val_loader_ft, 'FineTune')\n",
        "del model, optimizer"
      ]
    },
    {
      "cell_type": "markdown",
      "id": "VPzqaw9jP72s",
      "metadata": {
        "id": "VPzqaw9jP72s"
      },
      "source": [
        "## Lora Model Initialisation"
      ]
    },
    {
      "cell_type": "code",
      "source": [
        "lora_base = copy.deepcopy(base_model)\n",
        "train_loader_lora, val_loader_lora = init_loader(max_len, 16)\n",
        "\n",
        "# Target modules q_lin and v_lin are needed as they are the modules distilbert use\n",
        "# Rank corresponds to the size of the low rank matrices\n",
        "config = LoraConfig(r=64, lora_dropout=0.05, target_modules=[\"q_lin\", \"v_lin\"])\n",
        "lora_model = get_peft_model(lora_base, config)\n",
        "for param in lora_model.base_model.model.classifier.parameters():\n",
        "    param.requires_grad = True\n",
        "count_parameters(lora_model)"
      ],
      "metadata": {
        "colab": {
          "base_uri": "https://localhost:8080/"
        },
        "id": "0TammAqVO5mz",
        "outputId": "cc6dc4a6-d93c-414c-fed8-5725f0f363ca"
      },
      "id": "0TammAqVO5mz",
      "execution_count": null,
      "outputs": [
        {
          "output_type": "stream",
          "name": "stdout",
          "text": [
            "Total params: 68,135,427\n",
            "Trainable params: 1,181,955\n",
            "Model size (all): 272.54 MB\n",
            "Trainable only: 4.73 MB\n",
            "Percentage trainable: 1.73%\n"
          ]
        }
      ]
    },
    {
      "cell_type": "code",
      "execution_count": null,
      "id": "yQPNUHBgzyhP",
      "metadata": {
        "id": "yQPNUHBgzyhP",
        "colab": {
          "base_uri": "https://localhost:8080/",
          "height": 740
        },
        "outputId": "b44cadda-6cdd-4adc-90c9-209e8c97d0f0"
      },
      "outputs": [
        {
          "output_type": "stream",
          "name": "stderr",
          "text": [
            "Epoch 0: 100%|██████████| 500/500 [00:49<00:00, 10.10it/s, loss=0.485]\n"
          ]
        },
        {
          "output_type": "stream",
          "name": "stdout",
          "text": [
            "Epoch 0 Loss: 0.7664433175325394\n"
          ]
        },
        {
          "output_type": "stream",
          "name": "stderr",
          "text": [
            "Epoch 1: 100%|██████████| 500/500 [00:49<00:00, 10.09it/s, loss=0.703]\n"
          ]
        },
        {
          "output_type": "stream",
          "name": "stdout",
          "text": [
            "Epoch 1 Loss: 0.5984022476375103\n"
          ]
        },
        {
          "output_type": "stream",
          "name": "stderr",
          "text": [
            "Epoch 2: 100%|██████████| 500/500 [00:49<00:00, 10.10it/s, loss=0.425]\n"
          ]
        },
        {
          "output_type": "stream",
          "name": "stdout",
          "text": [
            "Epoch 2 Loss: 0.5367652032673359\n"
          ]
        },
        {
          "output_type": "stream",
          "name": "stderr",
          "text": [
            "Epoch 3: 100%|██████████| 500/500 [00:49<00:00, 10.10it/s, loss=0.52]\n"
          ]
        },
        {
          "output_type": "stream",
          "name": "stdout",
          "text": [
            "Epoch 3 Loss: 0.4956577834188938\n"
          ]
        },
        {
          "output_type": "stream",
          "name": "stderr",
          "text": [
            "Epoch 4: 100%|██████████| 500/500 [00:49<00:00, 10.10it/s, loss=0.241]\n"
          ]
        },
        {
          "output_type": "stream",
          "name": "stdout",
          "text": [
            "Epoch 4 Loss: 0.45385980522632596\n"
          ]
        },
        {
          "output_type": "stream",
          "name": "stderr",
          "text": [
            "Epoch 5: 100%|██████████| 500/500 [00:49<00:00, 10.12it/s, loss=0.304]\n"
          ]
        },
        {
          "output_type": "stream",
          "name": "stdout",
          "text": [
            "Epoch 5 Loss: 0.43646370857954025\n",
            "Ran the model in 299.32972126799996 seconds\n",
            "Peak GPU memory used during training: 2.32 GB\n",
            "Validation Accuracy: 0.7930\n"
          ]
        },
        {
          "output_type": "display_data",
          "data": {
            "text/plain": [
              "<Figure size 640x480 with 2 Axes>"
            ],
            "image/png": "[encoded data removed]"
          },
          "metadata": {}
        }
      ],
      "source": [
        "\n",
        "lora_model.to(device)\n",
        "\n",
        "lora_optimizer = AdamW(lora_model.parameters(), lr=5e-4)\n",
        "train_model(lora_model, epochs, 'Lora', lora_optimizer, train_loader_lora)\n",
        "eval_model(lora_model, val_loader_lora, 'Lora')\n",
        "del lora_model, lora_optimizer"
      ]
    },
    {
      "cell_type": "markdown",
      "id": "t3RuxWaMPyKC",
      "metadata": {
        "id": "t3RuxWaMPyKC"
      },
      "source": [
        "## Vera Fine Tuning"
      ]
    },
    {
      "cell_type": "code",
      "source": [
        "vera_base = copy.deepcopy(base_model)\n",
        "train_loader_vera, val_loader_vera = init_loader(max_len, 16)\n",
        "config = VeraConfig(\n",
        "    r=64,vera_dropout=0.05, target_modules=[\"q_lin\", \"v_lin\"]\n",
        ")\n",
        "vera_model = get_peft_model(vera_base, config)\n",
        "for param in vera_model.base_model.model.classifier.parameters():\n",
        "    param.requires_grad = True\n",
        "\n",
        "count_parameters(vera_model)"
      ],
      "metadata": {
        "colab": {
          "base_uri": "https://localhost:8080/"
        },
        "id": "2YzkAVLoOt-O",
        "outputId": "d107ddcb-d4f6-42b0-ab1d-762dd4fe76c2"
      },
      "id": "2YzkAVLoOt-O",
      "execution_count": null,
      "outputs": [
        {
          "output_type": "stream",
          "name": "stdout",
          "text": [
            "Total params: 66,965,763\n",
            "Trainable params: 12,291\n",
            "Model size (all): 267.86 MB\n",
            "Trainable only: 0.05 MB\n",
            "Percentage trainable: 0.02%\n"
          ]
        }
      ]
    },
    {
      "cell_type": "code",
      "execution_count": null,
      "id": "0CQStnnuVWUa",
      "metadata": {
        "id": "0CQStnnuVWUa",
        "colab": {
          "base_uri": "https://localhost:8080/",
          "height": 740
        },
        "outputId": "2a1e5ce6-2640-474e-9b87-bd5d2738272a"
      },
      "outputs": [
        {
          "output_type": "stream",
          "name": "stderr",
          "text": [
            "Epoch 0: 100%|██████████| 500/500 [00:49<00:00, 10.16it/s, loss=0.76]\n"
          ]
        },
        {
          "output_type": "stream",
          "name": "stdout",
          "text": [
            "Epoch 0 Loss: 1.0111982082128526\n"
          ]
        },
        {
          "output_type": "stream",
          "name": "stderr",
          "text": [
            "Epoch 1: 100%|██████████| 500/500 [00:49<00:00, 10.19it/s, loss=0.665]\n"
          ]
        },
        {
          "output_type": "stream",
          "name": "stdout",
          "text": [
            "Epoch 1 Loss: 0.7862820693254471\n"
          ]
        },
        {
          "output_type": "stream",
          "name": "stderr",
          "text": [
            "Epoch 2: 100%|██████████| 500/500 [00:49<00:00, 10.19it/s, loss=0.64]\n"
          ]
        },
        {
          "output_type": "stream",
          "name": "stdout",
          "text": [
            "Epoch 2 Loss: 0.7068366226553917\n"
          ]
        },
        {
          "output_type": "stream",
          "name": "stderr",
          "text": [
            "Epoch 3: 100%|██████████| 500/500 [00:49<00:00, 10.10it/s, loss=0.682]\n"
          ]
        },
        {
          "output_type": "stream",
          "name": "stdout",
          "text": [
            "Epoch 3 Loss: 0.6637338749170303\n"
          ]
        },
        {
          "output_type": "stream",
          "name": "stderr",
          "text": [
            "Epoch 4: 100%|██████████| 500/500 [00:49<00:00, 10.13it/s, loss=0.801]\n"
          ]
        },
        {
          "output_type": "stream",
          "name": "stdout",
          "text": [
            "Epoch 4 Loss: 0.6466994759738445\n"
          ]
        },
        {
          "output_type": "stream",
          "name": "stderr",
          "text": [
            "Epoch 5: 100%|██████████| 500/500 [00:49<00:00, 10.15it/s, loss=0.378]\n"
          ]
        },
        {
          "output_type": "stream",
          "name": "stdout",
          "text": [
            "Epoch 5 Loss: 0.6185713138282299\n",
            "Ran the model in 297.84209421000014 seconds\n",
            "Peak GPU memory used during training: 2.58 GB\n",
            "Validation Accuracy: 0.7275\n"
          ]
        },
        {
          "output_type": "display_data",
          "data": {
            "text/plain": [
              "<Figure size 640x480 with 2 Axes>"
            ],
            "image/png": "[encoded data removed]"
          },
          "metadata": {}
        }
      ],
      "source": [
        "vera_model.to(device)\n",
        "\n",
        "vera_optimizer = AdamW(vera_model.parameters(), lr=1e-3)\n",
        "train_model(vera_model, epochs, 'Vera', vera_optimizer, train_loader_vera)\n",
        "eval_model(vera_model, val_loader_vera, 'Vera')\n",
        "del vera_optimizer, vera_model"
      ]
    },
    {
      "cell_type": "markdown",
      "id": "FuPooYUiQBGA",
      "metadata": {
        "id": "FuPooYUiQBGA"
      },
      "source": [
        "## QLora Initialisation"
      ]
    },
    {
      "cell_type": "code",
      "source": [
        "# config to use 4-bit quantization with BitsAndBytes\n",
        "bnb_config = BitsAndBytesConfig(\n",
        "    load_in_4bit=True,\n",
        "    bnb_4bit_use_double_quant=True,\n",
        "    bnb_4bit_quant_type=\"nf4\", # 4-bit NormalFloat (NF4) quantization\n",
        "    bnb_4bit_compute_dtype=torch.bfloat16 # computation done in bfloat16\n",
        ")\n",
        "\n",
        "qlora_model = copy.deepcopy(base_model)\n",
        "train_loader_qlora, val_loader_qlora = init_loader(max_len, 16)\n",
        "\n",
        "config = LoraConfig(\n",
        "    r=64,\n",
        "    lora_alpha=32,\n",
        "    target_modules=[\"q_lin\", \"v_lin\"],\n",
        "    lora_dropout=0.05,\n",
        "    bias=\"none\"\n",
        ")\n",
        "\n",
        "qlora_model = get_peft_model(qlora_model, config)\n",
        "for param in qlora_model.classifier.parameters():\n",
        "    param.requires_grad = True\n",
        "count_parameters(qlora_model)"
      ],
      "metadata": {
        "colab": {
          "base_uri": "https://localhost:8080/"
        },
        "id": "ry6c8Hh2PDAL",
        "outputId": "707b5537-e4a3-4708-bd32-521455ea6ed0"
      },
      "id": "ry6c8Hh2PDAL",
      "execution_count": null,
      "outputs": [
        {
          "output_type": "stream",
          "name": "stdout",
          "text": [
            "Total params: 68,135,427\n",
            "Trainable params: 1,181,955\n",
            "Model size (all): 272.54 MB\n",
            "Trainable only: 4.73 MB\n",
            "Percentage trainable: 1.73%\n"
          ]
        }
      ]
    },
    {
      "cell_type": "code",
      "execution_count": null,
      "id": "BF968INwydDo",
      "metadata": {
        "id": "BF968INwydDo",
        "colab": {
          "base_uri": "https://localhost:8080/",
          "height": 740
        },
        "outputId": "f0bdefb1-31ad-4aa4-94af-6d340e1b3f35"
      },
      "outputs": [
        {
          "output_type": "stream",
          "name": "stderr",
          "text": [
            "Epoch 0: 100%|██████████| 500/500 [00:49<00:00, 10.13it/s, loss=0.663]\n"
          ]
        },
        {
          "output_type": "stream",
          "name": "stdout",
          "text": [
            "Epoch 0 Loss: 0.7476776459813118\n"
          ]
        },
        {
          "output_type": "stream",
          "name": "stderr",
          "text": [
            "Epoch 1: 100%|██████████| 500/500 [00:49<00:00, 10.14it/s, loss=0.919]\n"
          ]
        },
        {
          "output_type": "stream",
          "name": "stdout",
          "text": [
            "Epoch 1 Loss: 0.5978290819227695\n"
          ]
        },
        {
          "output_type": "stream",
          "name": "stderr",
          "text": [
            "Epoch 2: 100%|██████████| 500/500 [00:49<00:00, 10.10it/s, loss=0.511]\n"
          ]
        },
        {
          "output_type": "stream",
          "name": "stdout",
          "text": [
            "Epoch 2 Loss: 0.5260722005963325\n"
          ]
        },
        {
          "output_type": "stream",
          "name": "stderr",
          "text": [
            "Epoch 3: 100%|██████████| 500/500 [00:49<00:00, 10.17it/s, loss=0.598]\n"
          ]
        },
        {
          "output_type": "stream",
          "name": "stdout",
          "text": [
            "Epoch 3 Loss: 0.469399608194828\n"
          ]
        },
        {
          "output_type": "stream",
          "name": "stderr",
          "text": [
            "Epoch 4: 100%|██████████| 500/500 [00:49<00:00, 10.19it/s, loss=0.222]\n"
          ]
        },
        {
          "output_type": "stream",
          "name": "stdout",
          "text": [
            "Epoch 4 Loss: 0.43039176788926126\n"
          ]
        },
        {
          "output_type": "stream",
          "name": "stderr",
          "text": [
            "Epoch 5: 100%|██████████| 500/500 [00:49<00:00, 10.17it/s, loss=0.732]\n"
          ]
        },
        {
          "output_type": "stream",
          "name": "stdout",
          "text": [
            "Epoch 5 Loss: 0.38590448737889527\n",
            "Ran the model in 297.852040388 seconds\n",
            "Peak GPU memory used during training: 2.85 GB\n",
            "Validation Accuracy: 0.7835\n"
          ]
        },
        {
          "output_type": "display_data",
          "data": {
            "text/plain": [
              "<Figure size 640x480 with 2 Axes>"
            ],
            "image/png": "[encoded data removed]"
          },
          "metadata": {}
        }
      ],
      "source": [
        "qlora_model.to(device)\n",
        "\n",
        "qlora_optimizer = AdamW(qlora_model.parameters(), lr=5e-4)\n",
        "train_model(qlora_model, epochs, 'QLora', qlora_optimizer, train_loader_qlora)\n",
        "eval_model(qlora_model, val_loader_qlora, 'QLora')\n",
        "del qlora_optimizer, qlora_model"
      ]
    },
    {
      "cell_type": "markdown",
      "id": "scNqi5pJQES7",
      "metadata": {
        "id": "scNqi5pJQES7"
      },
      "source": [
        "## Results Plotting"
      ]
    },
    {
      "cell_type": "code",
      "execution_count": null,
      "id": "kutgQSRPWmTl",
      "metadata": {
        "id": "kutgQSRPWmTl",
        "colab": {
          "base_uri": "https://localhost:8080/",
          "height": 411
        },
        "outputId": "c071ddad-c570-411b-907f-ae75932f00e1"
      },
      "outputs": [
        {
          "output_type": "display_data",
          "data": {
            "text/plain": [
              "<Figure size 700x400 with 1 Axes>"
            ],
            "image/png": "[encoded data removed]"
          },
          "metadata": {}
        }
      ],
      "source": [
        "# Set style\n",
        "plt.style.use(\"seaborn-v0_8-deep\")\n",
        "\n",
        "# Helper function for consistent plotting\n",
        "def plot_metric(data_dict, title, ylabel, color):\n",
        "    plt.figure(figsize=(7, 4))\n",
        "    plt.bar(data_dict.keys(), data_dict.values(), color=color)\n",
        "    plt.title(title, fontsize=14, weight=\"bold\")\n",
        "    plt.ylabel(ylabel)\n",
        "    plt.xlabel(\"Model\")\n",
        "    plt.grid(axis='y', linestyle='--', alpha=0.7)\n",
        "    plt.show()\n",
        "\n",
        "# Plot each metric separately\n",
        "plot_metric(Model_train_time, \"Model Training Time\", \"Time (seconds)\", \"#3498db\")"
      ]
    },
    {
      "cell_type": "code",
      "execution_count": null,
      "id": "hUzPZrlyFKLV",
      "metadata": {
        "id": "hUzPZrlyFKLV",
        "colab": {
          "base_uri": "https://localhost:8080/",
          "height": 411
        },
        "outputId": "f5a70eac-c7ec-4868-ea6d-6539faf830a2"
      },
      "outputs": [
        {
          "output_type": "display_data",
          "data": {
            "text/plain": [
              "<Figure size 700x400 with 1 Axes>"
            ],
            "image/png": "[encoded data removed]"
          },
          "metadata": {}
        }
      ],
      "source": [
        "plot_metric(Model_trained_params, \"Model Trainable Parameters\", \"Parameters\", \"#e67e22\")"
      ]
    },
    {
      "cell_type": "code",
      "execution_count": null,
      "id": "8GOYSyp01NSZ",
      "metadata": {
        "id": "8GOYSyp01NSZ",
        "colab": {
          "base_uri": "https://localhost:8080/",
          "height": 411
        },
        "outputId": "9934e8e3-843e-4f60-d0ac-08934ad69267"
      },
      "outputs": [
        {
          "output_type": "display_data",
          "data": {
            "text/plain": [
              "<Figure size 700x400 with 1 Axes>"
            ],
            "image/png": "[encoded data removed]"
          },
          "metadata": {}
        }
      ],
      "source": [
        "plot_metric(Model_trained_accuracy, \"Model Validation Accuracy\", \"Accuracy\", \"#2ecc71\")"
      ]
    },
    {
      "cell_type": "code",
      "source": [
        "plot_metric(Model_trained_memory_use, \"Model Memory Use\", \"GB\", \"#9467bd\")"
      ],
      "metadata": {
        "colab": {
          "base_uri": "https://localhost:8080/",
          "height": 411
        },
        "id": "tYyFdib_QyQO",
        "outputId": "fa150895-37a2-4b65-8ae3-42191473ebfe"
      },
      "id": "tYyFdib_QyQO",
      "execution_count": null,
      "outputs": [
        {
          "output_type": "display_data",
          "data": {
            "text/plain": [
              "<Figure size 700x400 with 1 Axes>"
            ],
            "image/png": "[encoded data removed]"
          },
          "metadata": {}
        }
      ]
    },
    {
      "cell_type": "code",
      "source": [
        "plot_metric(Model_trained_f1_score, \"Model F1 Score\", \"Score\", \"#17becf\")"
      ],
      "metadata": {
        "colab": {
          "base_uri": "https://localhost:8080/",
          "height": 411
        },
        "id": "NuWK0kSKQzo-",
        "outputId": "4ae093fa-f40e-40d2-c6a1-044c7e76c8e4"
      },
      "id": "NuWK0kSKQzo-",
      "execution_count": null,
      "outputs": [
        {
          "output_type": "display_data",
          "data": {
            "text/plain": [
              "<Figure size 700x400 with 1 Axes>"
            ],
            "image/png": "[encoded data removed]"
          },
          "metadata": {}
        }
      ]
    },
    {
      "cell_type": "code",
      "source": [],
      "metadata": {
        "id": "2pGJJgBMUdV-"
      },
      "id": "2pGJJgBMUdV-",
      "execution_count": null,
      "outputs": []
    }
  ],
  "metadata": {
    "accelerator": "GPU",
    "colab": {
      "generative_ai_disabled": true,
      "gpuType": "A100",
      "toc_visible": true,
      "provenance": []
    },
    "kernelspec": {
      "display_name": "Python 3",
      "name": "python3"
    },
    "language_info": {
      "codemirror_mode": {
        "name": "ipython",
        "version": 3
      },
      "file_extension": ".py",
      "mimetype": "text/x-python",
      "name": "python",
      "nbconvert_exporter": "python",
      "pygments_lexer": "ipython3",
      "version": "3.13.7"
    },
    "widgets": {
      "application/vnd.jupyter.widget-state+json": {
        "3e075326f05d439b87e6176ed4b167df": {
          "model_module": "@jupyter-widgets/controls",
          "model_name": "HBoxModel",
          "model_module_version": "1.5.0",
          "state": {
            "_dom_classes": [],
            "_model_module": "@jupyter-widgets/controls",
            "_model_module_version": "1.5.0",
            "_model_name": "HBoxModel",
            "_view_count": null,
            "_view_module": "@jupyter-widgets/controls",
            "_view_module_version": "1.5.0",
            "_view_name": "HBoxView",
            "box_style": "",
            "children": [
              "IPY_MODEL_d2f113ec0de54139b4ef188625524502",
              "IPY_MODEL_ded0de7c8f754cad87f467ceff43f555",
              "IPY_MODEL_6ddb1311764d4c0c98207f7f6724d164"
            ],
            "layout": "IPY_MODEL_930026104d784c6ca9740946b7d13a94"
          }
        },
        "d2f113ec0de54139b4ef188625524502": {
          "model_module": "@jupyter-widgets/controls",
          "model_name": "HTMLModel",
          "model_module_version": "1.5.0",
          "state": {
            "_dom_classes": [],
            "_model_module": "@jupyter-widgets/controls",
            "_model_module_version": "1.5.0",
            "_model_name": "HTMLModel",
            "_view_count": null,
            "_view_module": "@jupyter-widgets/controls",
            "_view_module_version": "1.5.0",
            "_view_name": "HTMLView",
            "description": "",
            "description_tooltip": null,
            "layout": "IPY_MODEL_2caeaebb588948cb90e03221dcce6ca7",
            "placeholder": "​",
            "style": "IPY_MODEL_6462846fa2074dcbb9f33774d300c358",
            "value": "tokenizer_config.json: 100%"
          }
        },
        "ded0de7c8f754cad87f467ceff43f555": {
          "model_module": "@jupyter-widgets/controls",
          "model_name": "FloatProgressModel",
          "model_module_version": "1.5.0",
          "state": {
            "_dom_classes": [],
            "_model_module": "@jupyter-widgets/controls",
            "_model_module_version": "1.5.0",
            "_model_name": "FloatProgressModel",
            "_view_count": null,
            "_view_module": "@jupyter-widgets/controls",
            "_view_module_version": "1.5.0",
            "_view_name": "ProgressView",
            "bar_style": "success",
            "description": "",
            "description_tooltip": null,
            "layout": "IPY_MODEL_f6a5b1648679409b935139dafd3fd2ae",
            "max": 48,
            "min": 0,
            "orientation": "horizontal",
            "style": "IPY_MODEL_3a5a3edc3bcd426cbf1026e6fc955b0c",
            "value": 48
          }
        },
        "6ddb1311764d4c0c98207f7f6724d164": {
          "model_module": "@jupyter-widgets/controls",
          "model_name": "HTMLModel",
          "model_module_version": "1.5.0",
          "state": {
            "_dom_classes": [],
            "_model_module": "@jupyter-widgets/controls",
            "_model_module_version": "1.5.0",
            "_model_name": "HTMLModel",
            "_view_count": null,
            "_view_module": "@jupyter-widgets/controls",
            "_view_module_version": "1.5.0",
            "_view_name": "HTMLView",
            "description": "",
            "description_tooltip": null,
            "layout": "IPY_MODEL_a2d023158ed84a7e95e0ec47d3dbc52c",
            "placeholder": "​",
            "style": "IPY_MODEL_65b97bb386c54c4b9e4a85d6cacca8ae",
            "value": " 48.0/48.0 [00:00&lt;00:00, 5.36kB/s]"
          }
        },
        "930026104d784c6ca9740946b7d13a94": {
          "model_module": "@jupyter-widgets/base",
          "model_name": "LayoutModel",
          "model_module_version": "1.2.0",
          "state": {
            "_model_module": "@jupyter-widgets/base",
            "_model_module_version": "1.2.0",
            "_model_name": "LayoutModel",
            "_view_count": null,
            "_view_module": "@jupyter-widgets/base",
            "_view_module_version": "1.2.0",
            "_view_name": "LayoutView",
            "align_content": null,
            "align_items": null,
            "align_self": null,
            "border": null,
            "bottom": null,
            "display": null,
            "flex": null,
            "flex_flow": null,
            "grid_area": null,
            "grid_auto_columns": null,
            "grid_auto_flow": null,
            "grid_auto_rows": null,
            "grid_column": null,
            "grid_gap": null,
            "grid_row": null,
            "grid_template_areas": null,
            "grid_template_columns": null,
            "grid_template_rows": null,
            "height": null,
            "justify_content": null,
            "justify_items": null,
            "left": null,
            "margin": null,
            "max_height": null,
            "max_width": null,
            "min_height": null,
            "min_width": null,
            "object_fit": null,
            "object_position": null,
            "order": null,
            "overflow": null,
            "overflow_x": null,
            "overflow_y": null,
            "padding": null,
            "right": null,
            "top": null,
            "visibility": null,
            "width": null
          }
        },
        "2caeaebb588948cb90e03221dcce6ca7": {
          "model_module": "@jupyter-widgets/base",
          "model_name": "LayoutModel",
          "model_module_version": "1.2.0",
          "state": {
            "_model_module": "@jupyter-widgets/base",
            "_model_module_version": "1.2.0",
            "_model_name": "LayoutModel",
            "_view_count": null,
            "_view_module": "@jupyter-widgets/base",
            "_view_module_version": "1.2.0",
            "_view_name": "LayoutView",
            "align_content": null,
            "align_items": null,
            "align_self": null,
            "border": null,
            "bottom": null,
            "display": null,
            "flex": null,
            "flex_flow": null,
            "grid_area": null,
            "grid_auto_columns": null,
            "grid_auto_flow": null,
            "grid_auto_rows": null,
            "grid_column": null,
            "grid_gap": null,
            "grid_row": null,
            "grid_template_areas": null,
            "grid_template_columns": null,
            "grid_template_rows": null,
            "height": null,
            "justify_content": null,
            "justify_items": null,
            "left": null,
            "margin": null,
            "max_height": null,
            "max_width": null,
            "min_height": null,
            "min_width": null,
            "object_fit": null,
            "object_position": null,
            "order": null,
            "overflow": null,
            "overflow_x": null,
            "overflow_y": null,
            "padding": null,
            "right": null,
            "top": null,
            "visibility": null,
            "width": null
          }
        },
        "6462846fa2074dcbb9f33774d300c358": {
          "model_module": "@jupyter-widgets/controls",
          "model_name": "DescriptionStyleModel",
          "model_module_version": "1.5.0",
          "state": {
            "_model_module": "@jupyter-widgets/controls",
            "_model_module_version": "1.5.0",
            "_model_name": "DescriptionStyleModel",
            "_view_count": null,
            "_view_module": "@jupyter-widgets/base",
            "_view_module_version": "1.2.0",
            "_view_name": "StyleView",
            "description_width": ""
          }
        },
        "f6a5b1648679409b935139dafd3fd2ae": {
          "model_module": "@jupyter-widgets/base",
          "model_name": "LayoutModel",
          "model_module_version": "1.2.0",
          "state": {
            "_model_module": "@jupyter-widgets/base",
            "_model_module_version": "1.2.0",
            "_model_name": "LayoutModel",
            "_view_count": null,
            "_view_module": "@jupyter-widgets/base",
            "_view_module_version": "1.2.0",
            "_view_name": "LayoutView",
            "align_content": null,
            "align_items": null,
            "align_self": null,
            "border": null,
            "bottom": null,
            "display": null,
            "flex": null,
            "flex_flow": null,
            "grid_area": null,
            "grid_auto_columns": null,
            "grid_auto_flow": null,
            "grid_auto_rows": null,
            "grid_column": null,
            "grid_gap": null,
            "grid_row": null,
            "grid_template_areas": null,
            "grid_template_columns": null,
            "grid_template_rows": null,
            "height": null,
            "justify_content": null,
            "justify_items": null,
            "left": null,
            "margin": null,
            "max_height": null,
            "max_width": null,
            "min_height": null,
            "min_width": null,
            "object_fit": null,
            "object_position": null,
            "order": null,
            "overflow": null,
            "overflow_x": null,
            "overflow_y": null,
            "padding": null,
            "right": null,
            "top": null,
            "visibility": null,
            "width": null
          }
        },
        "3a5a3edc3bcd426cbf1026e6fc955b0c": {
          "model_module": "@jupyter-widgets/controls",
          "model_name": "ProgressStyleModel",
          "model_module_version": "1.5.0",
          "state": {
            "_model_module": "@jupyter-widgets/controls",
            "_model_module_version": "1.5.0",
            "_model_name": "ProgressStyleModel",
            "_view_count": null,
            "_view_module": "@jupyter-widgets/base",
            "_view_module_version": "1.2.0",
            "_view_name": "StyleView",
            "bar_color": null,
            "description_width": ""
          }
        },
        "a2d023158ed84a7e95e0ec47d3dbc52c": {
          "model_module": "@jupyter-widgets/base",
          "model_name": "LayoutModel",
          "model_module_version": "1.2.0",
          "state": {
            "_model_module": "@jupyter-widgets/base",
            "_model_module_version": "1.2.0",
            "_model_name": "LayoutModel",
            "_view_count": null,
            "_view_module": "@jupyter-widgets/base",
            "_view_module_version": "1.2.0",
            "_view_name": "LayoutView",
            "align_content": null,
            "align_items": null,
            "align_self": null,
            "border": null,
            "bottom": null,
            "display": null,
            "flex": null,
            "flex_flow": null,
            "grid_area": null,
            "grid_auto_columns": null,
            "grid_auto_flow": null,
            "grid_auto_rows": null,
            "grid_column": null,
            "grid_gap": null,
            "grid_row": null,
            "grid_template_areas": null,
            "grid_template_columns": null,
            "grid_template_rows": null,
            "height": null,
            "justify_content": null,
            "justify_items": null,
            "left": null,
            "margin": null,
            "max_height": null,
            "max_width": null,
            "min_height": null,
            "min_width": null,
            "object_fit": null,
            "object_position": null,
            "order": null,
            "overflow": null,
            "overflow_x": null,
            "overflow_y": null,
            "padding": null,
            "right": null,
            "top": null,
            "visibility": null,
            "width": null
          }
        },
        "65b97bb386c54c4b9e4a85d6cacca8ae": {
          "model_module": "@jupyter-widgets/controls",
          "model_name": "DescriptionStyleModel",
          "model_module_version": "1.5.0",
          "state": {
            "_model_module": "@jupyter-widgets/controls",
            "_model_module_version": "1.5.0",
            "_model_name": "DescriptionStyleModel",
            "_view_count": null,
            "_view_module": "@jupyter-widgets/base",
            "_view_module_version": "1.2.0",
            "_view_name": "StyleView",
            "description_width": ""
          }
        },
        "1df78c94159f49849f66a42aed6d27e0": {
          "model_module": "@jupyter-widgets/controls",
          "model_name": "HBoxModel",
          "model_module_version": "1.5.0",
          "state": {
            "_dom_classes": [],
            "_model_module": "@jupyter-widgets/controls",
            "_model_module_version": "1.5.0",
            "_model_name": "HBoxModel",
            "_view_count": null,
            "_view_module": "@jupyter-widgets/controls",
            "_view_module_version": "1.5.0",
            "_view_name": "HBoxView",
            "box_style": "",
            "children": [
              "IPY_MODEL_abcf27c538664f81b575c213f475af7f",
              "IPY_MODEL_6c1ae8eb5fc146bcb5f729bdb2835431",
              "IPY_MODEL_fd7decec22104ae992757600f33d783c"
            ],
            "layout": "IPY_MODEL_d2c8e05b7b934d459493216dca9d78fb"
          }
        },
        "abcf27c538664f81b575c213f475af7f": {
          "model_module": "@jupyter-widgets/controls",
          "model_name": "HTMLModel",
          "model_module_version": "1.5.0",
          "state": {
            "_dom_classes": [],
            "_model_module": "@jupyter-widgets/controls",
            "_model_module_version": "1.5.0",
            "_model_name": "HTMLModel",
            "_view_count": null,
            "_view_module": "@jupyter-widgets/controls",
            "_view_module_version": "1.5.0",
            "_view_name": "HTMLView",
            "description": "",
            "description_tooltip": null,
            "layout": "IPY_MODEL_28abcc7ecbff483184b1dec845112c54",
            "placeholder": "​",
            "style": "IPY_MODEL_8ae4642fbb3247b78f15ef7435f7b5c8",
            "value": "vocab.txt: 100%"
          }
        },
        "6c1ae8eb5fc146bcb5f729bdb2835431": {
          "model_module": "@jupyter-widgets/controls",
          "model_name": "FloatProgressModel",
          "model_module_version": "1.5.0",
          "state": {
            "_dom_classes": [],
            "_model_module": "@jupyter-widgets/controls",
            "_model_module_version": "1.5.0",
            "_model_name": "FloatProgressModel",
            "_view_count": null,
            "_view_module": "@jupyter-widgets/controls",
            "_view_module_version": "1.5.0",
            "_view_name": "ProgressView",
            "bar_style": "success",
            "description": "",
            "description_tooltip": null,
            "layout": "IPY_MODEL_c45a3bb285e147498d0b06a845d9f05e",
            "max": 231508,
            "min": 0,
            "orientation": "horizontal",
            "style": "IPY_MODEL_7dd610b526544ba5a51678b743c1ecd2",
            "value": 231508
          }
        },
        "fd7decec22104ae992757600f33d783c": {
          "model_module": "@jupyter-widgets/controls",
          "model_name": "HTMLModel",
          "model_module_version": "1.5.0",
          "state": {
            "_dom_classes": [],
            "_model_module": "@jupyter-widgets/controls",
            "_model_module_version": "1.5.0",
            "_model_name": "HTMLModel",
            "_view_count": null,
            "_view_module": "@jupyter-widgets/controls",
            "_view_module_version": "1.5.0",
            "_view_name": "HTMLView",
            "description": "",
            "description_tooltip": null,
            "layout": "IPY_MODEL_40c58a5cb886421c83df2b7d975f4c63",
            "placeholder": "​",
            "style": "IPY_MODEL_8361dacbbfe44bcea681ac355af114db",
            "value": " 232k/232k [00:00&lt;00:00, 1.01MB/s]"
          }
        },
        "d2c8e05b7b934d459493216dca9d78fb": {
          "model_module": "@jupyter-widgets/base",
          "model_name": "LayoutModel",
          "model_module_version": "1.2.0",
          "state": {
            "_model_module": "@jupyter-widgets/base",
            "_model_module_version": "1.2.0",
            "_model_name": "LayoutModel",
            "_view_count": null,
            "_view_module": "@jupyter-widgets/base",
            "_view_module_version": "1.2.0",
            "_view_name": "LayoutView",
            "align_content": null,
            "align_items": null,
            "align_self": null,
            "border": null,
            "bottom": null,
            "display": null,
            "flex": null,
            "flex_flow": null,
            "grid_area": null,
            "grid_auto_columns": null,
            "grid_auto_flow": null,
            "grid_auto_rows": null,
            "grid_column": null,
            "grid_gap": null,
            "grid_row": null,
            "grid_template_areas": null,
            "grid_template_columns": null,
            "grid_template_rows": null,
            "height": null,
            "justify_content": null,
            "justify_items": null,
            "left": null,
            "margin": null,
            "max_height": null,
            "max_width": null,
            "min_height": null,
            "min_width": null,
            "object_fit": null,
            "object_position": null,
            "order": null,
            "overflow": null,
            "overflow_x": null,
            "overflow_y": null,
            "padding": null,
            "right": null,
            "top": null,
            "visibility": null,
            "width": null
          }
        },
        "28abcc7ecbff483184b1dec845112c54": {
          "model_module": "@jupyter-widgets/base",
          "model_name": "LayoutModel",
          "model_module_version": "1.2.0",
          "state": {
            "_model_module": "@jupyter-widgets/base",
            "_model_module_version": "1.2.0",
            "_model_name": "LayoutModel",
            "_view_count": null,
            "_view_module": "@jupyter-widgets/base",
            "_view_module_version": "1.2.0",
            "_view_name": "LayoutView",
            "align_content": null,
            "align_items": null,
            "align_self": null,
            "border": null,
            "bottom": null,
            "display": null,
            "flex": null,
            "flex_flow": null,
            "grid_area": null,
            "grid_auto_columns": null,
            "grid_auto_flow": null,
            "grid_auto_rows": null,
            "grid_column": null,
            "grid_gap": null,
            "grid_row": null,
            "grid_template_areas": null,
            "grid_template_columns": null,
            "grid_template_rows": null,
            "height": null,
            "justify_content": null,
            "justify_items": null,
            "left": null,
            "margin": null,
            "max_height": null,
            "max_width": null,
            "min_height": null,
            "min_width": null,
            "object_fit": null,
            "object_position": null,
            "order": null,
            "overflow": null,
            "overflow_x": null,
            "overflow_y": null,
            "padding": null,
            "right": null,
            "top": null,
            "visibility": null,
            "width": null
          }
        },
        "8ae4642fbb3247b78f15ef7435f7b5c8": {
          "model_module": "@jupyter-widgets/controls",
          "model_name": "DescriptionStyleModel",
          "model_module_version": "1.5.0",
          "state": {
            "_model_module": "@jupyter-widgets/controls",
            "_model_module_version": "1.5.0",
            "_model_name": "DescriptionStyleModel",
            "_view_count": null,
            "_view_module": "@jupyter-widgets/base",
            "_view_module_version": "1.2.0",
            "_view_name": "StyleView",
            "description_width": ""
          }
        },
        "c45a3bb285e147498d0b06a845d9f05e": {
          "model_module": "@jupyter-widgets/base",
          "model_name": "LayoutModel",
          "model_module_version": "1.2.0",
          "state": {
            "_model_module": "@jupyter-widgets/base",
            "_model_module_version": "1.2.0",
            "_model_name": "LayoutModel",
            "_view_count": null,
            "_view_module": "@jupyter-widgets/base",
            "_view_module_version": "1.2.0",
            "_view_name": "LayoutView",
            "align_content": null,
            "align_items": null,
            "align_self": null,
            "border": null,
            "bottom": null,
            "display": null,
            "flex": null,
            "flex_flow": null,
            "grid_area": null,
            "grid_auto_columns": null,
            "grid_auto_flow": null,
            "grid_auto_rows": null,
            "grid_column": null,
            "grid_gap": null,
            "grid_row": null,
            "grid_template_areas": null,
            "grid_template_columns": null,
            "grid_template_rows": null,
            "height": null,
            "justify_content": null,
            "justify_items": null,
            "left": null,
            "margin": null,
            "max_height": null,
            "max_width": null,
            "min_height": null,
            "min_width": null,
            "object_fit": null,
            "object_position": null,
            "order": null,
            "overflow": null,
            "overflow_x": null,
            "overflow_y": null,
            "padding": null,
            "right": null,
            "top": null,
            "visibility": null,
            "width": null
          }
        },
        "7dd610b526544ba5a51678b743c1ecd2": {
          "model_module": "@jupyter-widgets/controls",
          "model_name": "ProgressStyleModel",
          "model_module_version": "1.5.0",
          "state": {
            "_model_module": "@jupyter-widgets/controls",
            "_model_module_version": "1.5.0",
            "_model_name": "ProgressStyleModel",
            "_view_count": null,
            "_view_module": "@jupyter-widgets/base",
            "_view_module_version": "1.2.0",
            "_view_name": "StyleView",
            "bar_color": null,
            "description_width": ""
          }
        },
        "40c58a5cb886421c83df2b7d975f4c63": {
          "model_module": "@jupyter-widgets/base",
          "model_name": "LayoutModel",
          "model_module_version": "1.2.0",
          "state": {
            "_model_module": "@jupyter-widgets/base",
            "_model_module_version": "1.2.0",
            "_model_name": "LayoutModel",
            "_view_count": null,
            "_view_module": "@jupyter-widgets/base",
            "_view_module_version": "1.2.0",
            "_view_name": "LayoutView",
            "align_content": null,
            "align_items": null,
            "align_self": null,
            "border": null,
            "bottom": null,
            "display": null,
            "flex": null,
            "flex_flow": null,
            "grid_area": null,
            "grid_auto_columns": null,
            "grid_auto_flow": null,
            "grid_auto_rows": null,
            "grid_column": null,
            "grid_gap": null,
            "grid_row": null,
            "grid_template_areas": null,
            "grid_template_columns": null,
            "grid_template_rows": null,
            "height": null,
            "justify_content": null,
            "justify_items": null,
            "left": null,
            "margin": null,
            "max_height": null,
            "max_width": null,
            "min_height": null,
            "min_width": null,
            "object_fit": null,
            "object_position": null,
            "order": null,
            "overflow": null,
            "overflow_x": null,
            "overflow_y": null,
            "padding": null,
            "right": null,
            "top": null,
            "visibility": null,
            "width": null
          }
        },
        "8361dacbbfe44bcea681ac355af114db": {
          "model_module": "@jupyter-widgets/controls",
          "model_name": "DescriptionStyleModel",
          "model_module_version": "1.5.0",
          "state": {
            "_model_module": "@jupyter-widgets/controls",
            "_model_module_version": "1.5.0",
            "_model_name": "DescriptionStyleModel",
            "_view_count": null,
            "_view_module": "@jupyter-widgets/base",
            "_view_module_version": "1.2.0",
            "_view_name": "StyleView",
            "description_width": ""
          }
        },
        "a0b6f12f8bbe4ca29f9a0329d4990b23": {
          "model_module": "@jupyter-widgets/controls",
          "model_name": "HBoxModel",
          "model_module_version": "1.5.0",
          "state": {
            "_dom_classes": [],
            "_model_module": "@jupyter-widgets/controls",
            "_model_module_version": "1.5.0",
            "_model_name": "HBoxModel",
            "_view_count": null,
            "_view_module": "@jupyter-widgets/controls",
            "_view_module_version": "1.5.0",
            "_view_name": "HBoxView",
            "box_style": "",
            "children": [
              "IPY_MODEL_b244d1b8b9404fa390a6d29c218385bc",
              "IPY_MODEL_c2b931f8646748a489238839d9c1cdb1",
              "IPY_MODEL_655e457d289747008649870c194b0621"
            ],
            "layout": "IPY_MODEL_87c629e9713f4135ae18ec66b82a081e"
          }
        },
        "b244d1b8b9404fa390a6d29c218385bc": {
          "model_module": "@jupyter-widgets/controls",
          "model_name": "HTMLModel",
          "model_module_version": "1.5.0",
          "state": {
            "_dom_classes": [],
            "_model_module": "@jupyter-widgets/controls",
            "_model_module_version": "1.5.0",
            "_model_name": "HTMLModel",
            "_view_count": null,
            "_view_module": "@jupyter-widgets/controls",
            "_view_module_version": "1.5.0",
            "_view_name": "HTMLView",
            "description": "",
            "description_tooltip": null,
            "layout": "IPY_MODEL_e385cf019dac454693919c86d94b4721",
            "placeholder": "​",
            "style": "IPY_MODEL_248b88f61402440f8c6d912841bcde58",
            "value": "tokenizer.json: 100%"
          }
        },
        "c2b931f8646748a489238839d9c1cdb1": {
          "model_module": "@jupyter-widgets/controls",
          "model_name": "FloatProgressModel",
          "model_module_version": "1.5.0",
          "state": {
            "_dom_classes": [],
            "_model_module": "@jupyter-widgets/controls",
            "_model_module_version": "1.5.0",
            "_model_name": "FloatProgressModel",
            "_view_count": null,
            "_view_module": "@jupyter-widgets/controls",
            "_view_module_version": "1.5.0",
            "_view_name": "ProgressView",
            "bar_style": "success",
            "description": "",
            "description_tooltip": null,
            "layout": "IPY_MODEL_e4a586d68ecf46d4a99f706bbcf509da",
            "max": 466062,
            "min": 0,
            "orientation": "horizontal",
            "style": "IPY_MODEL_e52dbb8725ae41209e1d8ee573448a02",
            "value": 466062
          }
        },
        "655e457d289747008649870c194b0621": {
          "model_module": "@jupyter-widgets/controls",
          "model_name": "HTMLModel",
          "model_module_version": "1.5.0",
          "state": {
            "_dom_classes": [],
            "_model_module": "@jupyter-widgets/controls",
            "_model_module_version": "1.5.0",
            "_model_name": "HTMLModel",
            "_view_count": null,
            "_view_module": "@jupyter-widgets/controls",
            "_view_module_version": "1.5.0",
            "_view_name": "HTMLView",
            "description": "",
            "description_tooltip": null,
            "layout": "IPY_MODEL_e02139adce5b4e4eb652f19bcfad4967",
            "placeholder": "​",
            "style": "IPY_MODEL_bd60ab0fda3544a7b78cf2e75a067a21",
            "value": " 466k/466k [00:00&lt;00:00, 2.06MB/s]"
          }
        },
        "87c629e9713f4135ae18ec66b82a081e": {
          "model_module": "@jupyter-widgets/base",
          "model_name": "LayoutModel",
          "model_module_version": "1.2.0",
          "state": {
            "_model_module": "@jupyter-widgets/base",
            "_model_module_version": "1.2.0",
            "_model_name": "LayoutModel",
            "_view_count": null,
            "_view_module": "@jupyter-widgets/base",
            "_view_module_version": "1.2.0",
            "_view_name": "LayoutView",
            "align_content": null,
            "align_items": null,
            "align_self": null,
            "border": null,
            "bottom": null,
            "display": null,
            "flex": null,
            "flex_flow": null,
            "grid_area": null,
            "grid_auto_columns": null,
            "grid_auto_flow": null,
            "grid_auto_rows": null,
            "grid_column": null,
            "grid_gap": null,
            "grid_row": null,
            "grid_template_areas": null,
            "grid_template_columns": null,
            "grid_template_rows": null,
            "height": null,
            "justify_content": null,
            "justify_items": null,
            "left": null,
            "margin": null,
            "max_height": null,
            "max_width": null,
            "min_height": null,
            "min_width": null,
            "object_fit": null,
            "object_position": null,
            "order": null,
            "overflow": null,
            "overflow_x": null,
            "overflow_y": null,
            "padding": null,
            "right": null,
            "top": null,
            "visibility": null,
            "width": null
          }
        },
        "e385cf019dac454693919c86d94b4721": {
          "model_module": "@jupyter-widgets/base",
          "model_name": "LayoutModel",
          "model_module_version": "1.2.0",
          "state": {
            "_model_module": "@jupyter-widgets/base",
            "_model_module_version": "1.2.0",
            "_model_name": "LayoutModel",
            "_view_count": null,
            "_view_module": "@jupyter-widgets/base",
            "_view_module_version": "1.2.0",
            "_view_name": "LayoutView",
            "align_content": null,
            "align_items": null,
            "align_self": null,
            "border": null,
            "bottom": null,
            "display": null,
            "flex": null,
            "flex_flow": null,
            "grid_area": null,
            "grid_auto_columns": null,
            "grid_auto_flow": null,
            "grid_auto_rows": null,
            "grid_column": null,
            "grid_gap": null,
            "grid_row": null,
            "grid_template_areas": null,
            "grid_template_columns": null,
            "grid_template_rows": null,
            "height": null,
            "justify_content": null,
            "justify_items": null,
            "left": null,
            "margin": null,
            "max_height": null,
            "max_width": null,
            "min_height": null,
            "min_width": null,
            "object_fit": null,
            "object_position": null,
            "order": null,
            "overflow": null,
            "overflow_x": null,
            "overflow_y": null,
            "padding": null,
            "right": null,
            "top": null,
            "visibility": null,
            "width": null
          }
        },
        "248b88f61402440f8c6d912841bcde58": {
          "model_module": "@jupyter-widgets/controls",
          "model_name": "DescriptionStyleModel",
          "model_module_version": "1.5.0",
          "state": {
            "_model_module": "@jupyter-widgets/controls",
            "_model_module_version": "1.5.0",
            "_model_name": "DescriptionStyleModel",
            "_view_count": null,
            "_view_module": "@jupyter-widgets/base",
            "_view_module_version": "1.2.0",
            "_view_name": "StyleView",
            "description_width": ""
          }
        },
        "e4a586d68ecf46d4a99f706bbcf509da": {
          "model_module": "@jupyter-widgets/base",
          "model_name": "LayoutModel",
          "model_module_version": "1.2.0",
          "state": {
            "_model_module": "@jupyter-widgets/base",
            "_model_module_version": "1.2.0",
            "_model_name": "LayoutModel",
            "_view_count": null,
            "_view_module": "@jupyter-widgets/base",
            "_view_module_version": "1.2.0",
            "_view_name": "LayoutView",
            "align_content": null,
            "align_items": null,
            "align_self": null,
            "border": null,
            "bottom": null,
            "display": null,
            "flex": null,
            "flex_flow": null,
            "grid_area": null,
            "grid_auto_columns": null,
            "grid_auto_flow": null,
            "grid_auto_rows": null,
            "grid_column": null,
            "grid_gap": null,
            "grid_row": null,
            "grid_template_areas": null,
            "grid_template_columns": null,
            "grid_template_rows": null,
            "height": null,
            "justify_content": null,
            "justify_items": null,
            "left": null,
            "margin": null,
            "max_height": null,
            "max_width": null,
            "min_height": null,
            "min_width": null,
            "object_fit": null,
            "object_position": null,
            "order": null,
            "overflow": null,
            "overflow_x": null,
            "overflow_y": null,
            "padding": null,
            "right": null,
            "top": null,
            "visibility": null,
            "width": null
          }
        },
        "e52dbb8725ae41209e1d8ee573448a02": {
          "model_module": "@jupyter-widgets/controls",
          "model_name": "ProgressStyleModel",
          "model_module_version": "1.5.0",
          "state": {
            "_model_module": "@jupyter-widgets/controls",
            "_model_module_version": "1.5.0",
            "_model_name": "ProgressStyleModel",
            "_view_count": null,
            "_view_module": "@jupyter-widgets/base",
            "_view_module_version": "1.2.0",
            "_view_name": "StyleView",
            "bar_color": null,
            "description_width": ""
          }
        },
        "e02139adce5b4e4eb652f19bcfad4967": {
          "model_module": "@jupyter-widgets/base",
          "model_name": "LayoutModel",
          "model_module_version": "1.2.0",
          "state": {
            "_model_module": "@jupyter-widgets/base",
            "_model_module_version": "1.2.0",
            "_model_name": "LayoutModel",
            "_view_count": null,
            "_view_module": "@jupyter-widgets/base",
            "_view_module_version": "1.2.0",
            "_view_name": "LayoutView",
            "align_content": null,
            "align_items": null,
            "align_self": null,
            "border": null,
            "bottom": null,
            "display": null,
            "flex": null,
            "flex_flow": null,
            "grid_area": null,
            "grid_auto_columns": null,
            "grid_auto_flow": null,
            "grid_auto_rows": null,
            "grid_column": null,
            "grid_gap": null,
            "grid_row": null,
            "grid_template_areas": null,
            "grid_template_columns": null,
            "grid_template_rows": null,
            "height": null,
            "justify_content": null,
            "justify_items": null,
            "left": null,
            "margin": null,
            "max_height": null,
            "max_width": null,
            "min_height": null,
            "min_width": null,
            "object_fit": null,
            "object_position": null,
            "order": null,
            "overflow": null,
            "overflow_x": null,
            "overflow_y": null,
            "padding": null,
            "right": null,
            "top": null,
            "visibility": null,
            "width": null
          }
        },
        "bd60ab0fda3544a7b78cf2e75a067a21": {
          "model_module": "@jupyter-widgets/controls",
          "model_name": "DescriptionStyleModel",
          "model_module_version": "1.5.0",
          "state": {
            "_model_module": "@jupyter-widgets/controls",
            "_model_module_version": "1.5.0",
            "_model_name": "DescriptionStyleModel",
            "_view_count": null,
            "_view_module": "@jupyter-widgets/base",
            "_view_module_version": "1.2.0",
            "_view_name": "StyleView",
            "description_width": ""
          }
        },
        "c26b93dbbba34f22adb2f5354b1411fc": {
          "model_module": "@jupyter-widgets/controls",
          "model_name": "HBoxModel",
          "model_module_version": "1.5.0",
          "state": {
            "_dom_classes": [],
            "_model_module": "@jupyter-widgets/controls",
            "_model_module_version": "1.5.0",
            "_model_name": "HBoxModel",
            "_view_count": null,
            "_view_module": "@jupyter-widgets/controls",
            "_view_module_version": "1.5.0",
            "_view_name": "HBoxView",
            "box_style": "",
            "children": [
              "IPY_MODEL_491f25ff3edc4e9baa71f44068d56b22",
              "IPY_MODEL_38f67a56bc0d4e6e9742e5fea9bc0b5e",
              "IPY_MODEL_cebdc58836764d5a8c499fda91eb742f"
            ],
            "layout": "IPY_MODEL_408bf9a22a4d41138ae2a76f9dc6d420"
          }
        },
        "491f25ff3edc4e9baa71f44068d56b22": {
          "model_module": "@jupyter-widgets/controls",
          "model_name": "HTMLModel",
          "model_module_version": "1.5.0",
          "state": {
            "_dom_classes": [],
            "_model_module": "@jupyter-widgets/controls",
            "_model_module_version": "1.5.0",
            "_model_name": "HTMLModel",
            "_view_count": null,
            "_view_module": "@jupyter-widgets/controls",
            "_view_module_version": "1.5.0",
            "_view_name": "HTMLView",
            "description": "",
            "description_tooltip": null,
            "layout": "IPY_MODEL_4eb562d7c6654b1482edd126611d3eed",
            "placeholder": "​",
            "style": "IPY_MODEL_1eaa3f946c19475fb7de2984d239824f",
            "value": "config.json: 100%"
          }
        },
        "38f67a56bc0d4e6e9742e5fea9bc0b5e": {
          "model_module": "@jupyter-widgets/controls",
          "model_name": "FloatProgressModel",
          "model_module_version": "1.5.0",
          "state": {
            "_dom_classes": [],
            "_model_module": "@jupyter-widgets/controls",
            "_model_module_version": "1.5.0",
            "_model_name": "FloatProgressModel",
            "_view_count": null,
            "_view_module": "@jupyter-widgets/controls",
            "_view_module_version": "1.5.0",
            "_view_name": "ProgressView",
            "bar_style": "success",
            "description": "",
            "description_tooltip": null,
            "layout": "IPY_MODEL_0602755f81e8462aa9c8f6abea2b4874",
            "max": 483,
            "min": 0,
            "orientation": "horizontal",
            "style": "IPY_MODEL_f21fcf4b34ee4784af55e4437ff84f90",
            "value": 483
          }
        },
        "cebdc58836764d5a8c499fda91eb742f": {
          "model_module": "@jupyter-widgets/controls",
          "model_name": "HTMLModel",
          "model_module_version": "1.5.0",
          "state": {
            "_dom_classes": [],
            "_model_module": "@jupyter-widgets/controls",
            "_model_module_version": "1.5.0",
            "_model_name": "HTMLModel",
            "_view_count": null,
            "_view_module": "@jupyter-widgets/controls",
            "_view_module_version": "1.5.0",
            "_view_name": "HTMLView",
            "description": "",
            "description_tooltip": null,
            "layout": "IPY_MODEL_7aaf64d20981491883ed81948c6cd6f5",
            "placeholder": "​",
            "style": "IPY_MODEL_a6743c6f30b044ecbb2189a368adb911",
            "value": " 483/483 [00:00&lt;00:00, 58.3kB/s]"
          }
        },
        "408bf9a22a4d41138ae2a76f9dc6d420": {
          "model_module": "@jupyter-widgets/base",
          "model_name": "LayoutModel",
          "model_module_version": "1.2.0",
          "state": {
            "_model_module": "@jupyter-widgets/base",
            "_model_module_version": "1.2.0",
            "_model_name": "LayoutModel",
            "_view_count": null,
            "_view_module": "@jupyter-widgets/base",
            "_view_module_version": "1.2.0",
            "_view_name": "LayoutView",
            "align_content": null,
            "align_items": null,
            "align_self": null,
            "border": null,
            "bottom": null,
            "display": null,
            "flex": null,
            "flex_flow": null,
            "grid_area": null,
            "grid_auto_columns": null,
            "grid_auto_flow": null,
            "grid_auto_rows": null,
            "grid_column": null,
            "grid_gap": null,
            "grid_row": null,
            "grid_template_areas": null,
            "grid_template_columns": null,
            "grid_template_rows": null,
            "height": null,
            "justify_content": null,
            "justify_items": null,
            "left": null,
            "margin": null,
            "max_height": null,
            "max_width": null,
            "min_height": null,
            "min_width": null,
            "object_fit": null,
            "object_position": null,
            "order": null,
            "overflow": null,
            "overflow_x": null,
            "overflow_y": null,
            "padding": null,
            "right": null,
            "top": null,
            "visibility": null,
            "width": null
          }
        },
        "4eb562d7c6654b1482edd126611d3eed": {
          "model_module": "@jupyter-widgets/base",
          "model_name": "LayoutModel",
          "model_module_version": "1.2.0",
          "state": {
            "_model_module": "@jupyter-widgets/base",
            "_model_module_version": "1.2.0",
            "_model_name": "LayoutModel",
            "_view_count": null,
            "_view_module": "@jupyter-widgets/base",
            "_view_module_version": "1.2.0",
            "_view_name": "LayoutView",
            "align_content": null,
            "align_items": null,
            "align_self": null,
            "border": null,
            "bottom": null,
            "display": null,
            "flex": null,
            "flex_flow": null,
            "grid_area": null,
            "grid_auto_columns": null,
            "grid_auto_flow": null,
            "grid_auto_rows": null,
            "grid_column": null,
            "grid_gap": null,
            "grid_row": null,
            "grid_template_areas": null,
            "grid_template_columns": null,
            "grid_template_rows": null,
            "height": null,
            "justify_content": null,
            "justify_items": null,
            "left": null,
            "margin": null,
            "max_height": null,
            "max_width": null,
            "min_height": null,
            "min_width": null,
            "object_fit": null,
            "object_position": null,
            "order": null,
            "overflow": null,
            "overflow_x": null,
            "overflow_y": null,
            "padding": null,
            "right": null,
            "top": null,
            "visibility": null,
            "width": null
          }
        },
        "1eaa3f946c19475fb7de2984d239824f": {
          "model_module": "@jupyter-widgets/controls",
          "model_name": "DescriptionStyleModel",
          "model_module_version": "1.5.0",
          "state": {
            "_model_module": "@jupyter-widgets/controls",
            "_model_module_version": "1.5.0",
            "_model_name": "DescriptionStyleModel",
            "_view_count": null,
            "_view_module": "@jupyter-widgets/base",
            "_view_module_version": "1.2.0",
            "_view_name": "StyleView",
            "description_width": ""
          }
        },
        "0602755f81e8462aa9c8f6abea2b4874": {
          "model_module": "@jupyter-widgets/base",
          "model_name": "LayoutModel",
          "model_module_version": "1.2.0",
          "state": {
            "_model_module": "@jupyter-widgets/base",
            "_model_module_version": "1.2.0",
            "_model_name": "LayoutModel",
            "_view_count": null,
            "_view_module": "@jupyter-widgets/base",
            "_view_module_version": "1.2.0",
            "_view_name": "LayoutView",
            "align_content": null,
            "align_items": null,
            "align_self": null,
            "border": null,
            "bottom": null,
            "display": null,
            "flex": null,
            "flex_flow": null,
            "grid_area": null,
            "grid_auto_columns": null,
            "grid_auto_flow": null,
            "grid_auto_rows": null,
            "grid_column": null,
            "grid_gap": null,
            "grid_row": null,
            "grid_template_areas": null,
            "grid_template_columns": null,
            "grid_template_rows": null,
            "height": null,
            "justify_content": null,
            "justify_items": null,
            "left": null,
            "margin": null,
            "max_height": null,
            "max_width": null,
            "min_height": null,
            "min_width": null,
            "object_fit": null,
            "object_position": null,
            "order": null,
            "overflow": null,
            "overflow_x": null,
            "overflow_y": null,
            "padding": null,
            "right": null,
            "top": null,
            "visibility": null,
            "width": null
          }
        },
        "f21fcf4b34ee4784af55e4437ff84f90": {
          "model_module": "@jupyter-widgets/controls",
          "model_name": "ProgressStyleModel",
          "model_module_version": "1.5.0",
          "state": {
            "_model_module": "@jupyter-widgets/controls",
            "_model_module_version": "1.5.0",
            "_model_name": "ProgressStyleModel",
            "_view_count": null,
            "_view_module": "@jupyter-widgets/base",
            "_view_module_version": "1.2.0",
            "_view_name": "StyleView",
            "bar_color": null,
            "description_width": ""
          }
        },
        "7aaf64d20981491883ed81948c6cd6f5": {
          "model_module": "@jupyter-widgets/base",
          "model_name": "LayoutModel",
          "model_module_version": "1.2.0",
          "state": {
            "_model_module": "@jupyter-widgets/base",
            "_model_module_version": "1.2.0",
            "_model_name": "LayoutModel",
            "_view_count": null,
            "_view_module": "@jupyter-widgets/base",
            "_view_module_version": "1.2.0",
            "_view_name": "LayoutView",
            "align_content": null,
            "align_items": null,
            "align_self": null,
            "border": null,
            "bottom": null,
            "display": null,
            "flex": null,
            "flex_flow": null,
            "grid_area": null,
            "grid_auto_columns": null,
            "grid_auto_flow": null,
            "grid_auto_rows": null,
            "grid_column": null,
            "grid_gap": null,
            "grid_row": null,
            "grid_template_areas": null,
            "grid_template_columns": null,
            "grid_template_rows": null,
            "height": null,
            "justify_content": null,
            "justify_items": null,
            "left": null,
            "margin": null,
            "max_height": null,
            "max_width": null,
            "min_height": null,
            "min_width": null,
            "object_fit": null,
            "object_position": null,
            "order": null,
            "overflow": null,
            "overflow_x": null,
            "overflow_y": null,
            "padding": null,
            "right": null,
            "top": null,
            "visibility": null,
            "width": null
          }
        },
        "a6743c6f30b044ecbb2189a368adb911": {
          "model_module": "@jupyter-widgets/controls",
          "model_name": "DescriptionStyleModel",
          "model_module_version": "1.5.0",
          "state": {
            "_model_module": "@jupyter-widgets/controls",
            "_model_module_version": "1.5.0",
            "_model_name": "DescriptionStyleModel",
            "_view_count": null,
            "_view_module": "@jupyter-widgets/base",
            "_view_module_version": "1.2.0",
            "_view_name": "StyleView",
            "description_width": ""
          }
        }
      }
    }
  },
  "nbformat": 4,
  "nbformat_minor": 5
}